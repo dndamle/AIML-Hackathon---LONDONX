{
 "cells": [
  {
   "cell_type": "markdown",
   "metadata": {},
   "source": [
    "## Project FMST - Solution by Shiva Pingle\n",
    "\n",
    "Objective : To predict the concrete strength using the data available in file \"concrete.csv\". \n",
    "\n",
    "Apply feature engineering and model tuning to obtain 85% to 95% accuracy.\n",
    "\n",
    "\n",
    "    \n",
    "The data for this project is available in file https://archive.ics.uci.edu/ml/machine-learning-databases/concrete/compressive/. The same has been shared along with the course content.\n"
   ]
  },
  {
   "cell_type": "code",
   "execution_count": 1,
   "metadata": {
    "ExecuteTime": {
     "end_time": "2020-10-18T15:34:40.881707Z",
     "start_time": "2020-10-18T15:34:39.315825Z"
    }
   },
   "outputs": [],
   "source": [
    "# Import important libraries\n",
    "import warnings\n",
    "warnings.filterwarnings('ignore')\n",
    "import numpy as np\n",
    "import pandas as pd\n",
    "import matplotlib.pyplot as plt\n",
    "import seaborn as sns\n",
    "%matplotlib inline\n",
    "from scipy.stats import chi2_contingency\n",
    "from sklearn.feature_selection import f_classif\n",
    "from sklearn.preprocessing import PolynomialFeatures\n",
    "from sklearn.model_selection import train_test_split\n",
    "from sklearn.metrics import mean_squared_error, r2_score\n",
    "from sklearn.tree import DecisionTreeRegressor  \n",
    "from sklearn.linear_model import Ridge\n",
    "from sklearn.linear_model import Lasso\n",
    "from sklearn.linear_model import LinearRegression\n",
    "from sklearn.ensemble import GradientBoostingRegressor\n",
    "import time\n",
    "from sklearn.model_selection import GridSearchCV, RandomizedSearchCV\n",
    "from sklearn.tree import DecisionTreeRegressor \n",
    "from sklearn.ensemble import BaggingRegressor\n",
    "from scipy.stats import randint as sp_randint\n"
   ]
  },
  {
   "cell_type": "code",
   "execution_count": 2,
   "metadata": {},
   "outputs": [],
   "source": [
    "#Functions to be used later\n",
    "\n",
    "def sanity_check_1(df):\n",
    "    dtype = df.dtypes\n",
    "    null = df.isnull().sum()\n",
    "    unique = df.nunique()\n",
    "\n",
    "    result_df = pd.concat([dtype, null, unique], axis=1)\n",
    "    result_df.columns = ['dtype', 'null', 'unique']\n",
    "    result_df['null_%'] = result_df['null'].values / len(df)\n",
    "    print(df.info())\n",
    "    result_df.sort_values(['unique'],inplace=True)\n",
    "    \n",
    "    return result_df\n",
    "\n",
    "\n",
    "def univariate_numerical(df):\n",
    "    univariate_df = pd.concat([df.describe(percentiles=[i/10 for i in range(1, 10)]).T, df.skew()], axis=1)\n",
    "    univariate_df.rename(columns={0:\"skew\"}, inplace=True)\n",
    "    return univariate_df\n",
    "\n",
    "\n",
    "def chi_square(data, features, target):\n",
    "    \n",
    "    output = dict()\n",
    "    \n",
    "    for feature in features:\n",
    "\n",
    "        data_crosstab = pd.crosstab(data[feature],  \n",
    "                                    data[target], \n",
    "                                        margins = False)\n",
    "\n",
    "        stat, p, dof, expected = chi2_contingency(data_crosstab)\n",
    "        \n",
    "        output[feature] = [stat, p]\n",
    "    \n",
    "    return output\n",
    "\n",
    "def f_values(data, features, target):\n",
    "    X = data[features].values\n",
    "    y = data[target].values\n",
    "\n",
    "    f_values, p_values = f_classif(X, y)\n",
    "    result = {feature:[f_value, p_value] for feature, f_value, p_value in zip(features, f_values, p_values)}\n",
    "    return result"
   ]
  },
  {
   "cell_type": "code",
   "execution_count": 3,
   "metadata": {
    "ExecuteTime": {
     "end_time": "2020-10-18T15:34:56.904461Z",
     "start_time": "2020-10-18T15:34:56.900130Z"
    }
   },
   "outputs": [
    {
     "name": "stdout",
     "output_type": "stream",
     "text": [
      "<class 'pandas.core.frame.DataFrame'>\n",
      "RangeIndex: 369289 entries, 0 to 369288\n",
      "Data columns (total 12 columns):\n",
      " #   Column   Non-Null Count   Dtype  \n",
      "---  ------   --------------   -----  \n",
      " 0   uuid     369289 non-null  object \n",
      " 1   VLF      369289 non-null  float64\n",
      " 2   VLF_PCT  369289 non-null  float64\n",
      " 3   LF       369289 non-null  float64\n",
      " 4   LF_PCT   369289 non-null  float64\n",
      " 5   LF_NU    369289 non-null  float64\n",
      " 6   HF       369289 non-null  float64\n",
      " 7   HF_PCT   369289 non-null  float64\n",
      " 8   HF_NU    369289 non-null  float64\n",
      " 9   TP       369289 non-null  float64\n",
      " 10  LF_HF    369289 non-null  float64\n",
      " 11  HF_LF    369289 non-null  float64\n",
      "dtypes: float64(11), object(1)\n",
      "memory usage: 33.8+ MB\n",
      "None\n",
      "<class 'pandas.core.frame.DataFrame'>\n",
      "RangeIndex: 369289 entries, 0 to 369288\n",
      "Data columns (total 7 columns):\n",
      " #   Column     Non-Null Count   Dtype  \n",
      "---  ------     --------------   -----  \n",
      " 0   uuid       369289 non-null  object \n",
      " 1   SD1        369289 non-null  float64\n",
      " 2   SD2        369289 non-null  float64\n",
      " 3   sampen     369289 non-null  float64\n",
      " 4   higuci     369289 non-null  float64\n",
      " 5   datasetId  369289 non-null  int64  \n",
      " 6   condition  369289 non-null  object \n",
      "dtypes: float64(4), int64(1), object(2)\n",
      "memory usage: 19.7+ MB\n",
      "None\n",
      "<class 'pandas.core.frame.DataFrame'>\n",
      "RangeIndex: 369289 entries, 0 to 369288\n",
      "Data columns (total 20 columns):\n",
      " #   Column             Non-Null Count   Dtype  \n",
      "---  ------             --------------   -----  \n",
      " 0   MEAN_RR            369289 non-null  float64\n",
      " 1   MEDIAN_RR          369289 non-null  float64\n",
      " 2   SDRR               369289 non-null  float64\n",
      " 3   RMSSD              369289 non-null  float64\n",
      " 4   SDSD               369289 non-null  float64\n",
      " 5   SDRR_RMSSD         369289 non-null  float64\n",
      " 6   HR                 369289 non-null  float64\n",
      " 7   pNN25              369289 non-null  float64\n",
      " 8   pNN50              369289 non-null  float64\n",
      " 9   KURT               369289 non-null  float64\n",
      " 10  SKEW               369289 non-null  float64\n",
      " 11  MEAN_REL_RR        369289 non-null  float64\n",
      " 12  MEDIAN_REL_RR      369289 non-null  float64\n",
      " 13  SDRR_REL_RR        369289 non-null  float64\n",
      " 14  RMSSD_REL_RR       369289 non-null  float64\n",
      " 15  SDSD_REL_RR        369289 non-null  float64\n",
      " 16  SDRR_RMSSD_REL_RR  369289 non-null  float64\n",
      " 17  KURT_REL_RR        369289 non-null  float64\n",
      " 18  SKEW_REL_RR        369289 non-null  float64\n",
      " 19  uuid               369289 non-null  object \n",
      "dtypes: float64(19), object(1)\n",
      "memory usage: 56.3+ MB\n",
      "None\n",
      "Frequence domain features            dtype  null  unique  null_%\n",
      "uuid      object     0  369289     0.0\n",
      "VLF      float64     0  369289     0.0\n",
      "VLF_PCT  float64     0  369289     0.0\n",
      "LF       float64     0  369289     0.0\n",
      "LF_PCT   float64     0  369289     0.0\n",
      "LF_NU    float64     0  369289     0.0\n",
      "HF       float64     0  369289     0.0\n",
      "HF_PCT   float64     0  369289     0.0\n",
      "HF_NU    float64     0  369289     0.0\n",
      "TP       float64     0  369289     0.0\n",
      "LF_HF    float64     0  369289     0.0\n",
      "HF_LF    float64     0  369289     0.0\n",
      "Heart rate non linear              dtype  null  unique  null_%\n",
      "datasetId    int64     0       1     0.0\n",
      "condition   object     0       3     0.0\n",
      "sampen     float64     0   82511     0.0\n",
      "uuid        object     0  369289     0.0\n",
      "SD1        float64     0  369289     0.0\n",
      "SD2        float64     0  369289     0.0\n",
      "higuci     float64     0  369289     0.0\n",
      "Time domain features                      dtype  null  unique  null_%\n",
      "pNN50              float64     0      83     0.0\n",
      "pNN25              float64     0     592     0.0\n",
      "MEDIAN_REL_RR      float64     0   25041     0.0\n",
      "MEDIAN_RR          float64     0  106329     0.0\n",
      "MEAN_RR            float64     0  369289     0.0\n",
      "KURT_REL_RR        float64     0  369289     0.0\n",
      "SDRR_RMSSD_REL_RR  float64     0  369289     0.0\n",
      "SDSD_REL_RR        float64     0  369289     0.0\n",
      "RMSSD_REL_RR       float64     0  369289     0.0\n",
      "SDRR_REL_RR        float64     0  369289     0.0\n",
      "MEAN_REL_RR        float64     0  369289     0.0\n",
      "KURT               float64     0  369289     0.0\n",
      "SKEW_REL_RR        float64     0  369289     0.0\n",
      "HR                 float64     0  369289     0.0\n",
      "SDRR_RMSSD         float64     0  369289     0.0\n",
      "SDSD               float64     0  369289     0.0\n",
      "RMSSD              float64     0  369289     0.0\n",
      "SDRR               float64     0  369289     0.0\n",
      "SKEW               float64     0  369289     0.0\n",
      "uuid                object     0  369289     0.0\n"
     ]
    }
   ],
   "source": [
    "#df = pd.read_csv(\"Dummy_Data_-_Train.csv\")\n",
    "df_freq = pd.read_csv(\"frequency_domain_features_train.csv\")\n",
    "df_heart = pd.read_csv(\"heart_rate_non_linear_features_train.csv\")\n",
    "df_time = pd.read_csv(\"time_domain_features_train.csv\")\n",
    "\n",
    "s1 = sanity_check_1(df_freq)\n",
    "s2 = sanity_check_1(df_heart)\n",
    "s3 = sanity_check_1(df_time)\n",
    "print(\"Frequence domain features\",s1)\n",
    "print(\"Heart rate non linear\",s2)\n",
    "print(\"Time domain features\",s3)"
   ]
  },
  {
   "cell_type": "code",
   "execution_count": 4,
   "metadata": {},
   "outputs": [
    {
     "name": "stdout",
     "output_type": "stream",
     "text": [
      "df_freq (369289, 12)\n",
      "df_heart (369289, 7)\n",
      "df_time (369289, 20)\n"
     ]
    }
   ],
   "source": [
    "print(\"df_freq\",df_freq.shape)\n",
    "print(\"df_heart\",df_heart.shape)\n",
    "print(\"df_time\",df_time.shape)"
   ]
  },
  {
   "cell_type": "code",
   "execution_count": 5,
   "metadata": {},
   "outputs": [
    {
     "name": "stdout",
     "output_type": "stream",
     "text": [
      "(369289, 18)\n",
      "(369289, 37)\n"
     ]
    }
   ],
   "source": [
    "df_merged1 = pd.merge(df_freq,df_heart,how='inner',on='uuid')\n",
    "df_merged = pd.merge(df_merged1,df_time,how='inner',on='uuid')\n",
    "print(df_merged1.shape)\n",
    "print(df_merged.shape)"
   ]
  },
  {
   "cell_type": "code",
   "execution_count": 6,
   "metadata": {},
   "outputs": [
    {
     "name": "stdout",
     "output_type": "stream",
     "text": [
      "<class 'pandas.core.frame.DataFrame'>\n",
      "Int64Index: 369289 entries, 0 to 369288\n",
      "Data columns (total 37 columns):\n",
      " #   Column             Non-Null Count   Dtype  \n",
      "---  ------             --------------   -----  \n",
      " 0   uuid               369289 non-null  object \n",
      " 1   VLF                369289 non-null  float64\n",
      " 2   VLF_PCT            369289 non-null  float64\n",
      " 3   LF                 369289 non-null  float64\n",
      " 4   LF_PCT             369289 non-null  float64\n",
      " 5   LF_NU              369289 non-null  float64\n",
      " 6   HF                 369289 non-null  float64\n",
      " 7   HF_PCT             369289 non-null  float64\n",
      " 8   HF_NU              369289 non-null  float64\n",
      " 9   TP                 369289 non-null  float64\n",
      " 10  LF_HF              369289 non-null  float64\n",
      " 11  HF_LF              369289 non-null  float64\n",
      " 12  SD1                369289 non-null  float64\n",
      " 13  SD2                369289 non-null  float64\n",
      " 14  sampen             369289 non-null  float64\n",
      " 15  higuci             369289 non-null  float64\n",
      " 16  datasetId          369289 non-null  int64  \n",
      " 17  condition          369289 non-null  object \n",
      " 18  MEAN_RR            369289 non-null  float64\n",
      " 19  MEDIAN_RR          369289 non-null  float64\n",
      " 20  SDRR               369289 non-null  float64\n",
      " 21  RMSSD              369289 non-null  float64\n",
      " 22  SDSD               369289 non-null  float64\n",
      " 23  SDRR_RMSSD         369289 non-null  float64\n",
      " 24  HR                 369289 non-null  float64\n",
      " 25  pNN25              369289 non-null  float64\n",
      " 26  pNN50              369289 non-null  float64\n",
      " 27  KURT               369289 non-null  float64\n",
      " 28  SKEW               369289 non-null  float64\n",
      " 29  MEAN_REL_RR        369289 non-null  float64\n",
      " 30  MEDIAN_REL_RR      369289 non-null  float64\n",
      " 31  SDRR_REL_RR        369289 non-null  float64\n",
      " 32  RMSSD_REL_RR       369289 non-null  float64\n",
      " 33  SDSD_REL_RR        369289 non-null  float64\n",
      " 34  SDRR_RMSSD_REL_RR  369289 non-null  float64\n",
      " 35  KURT_REL_RR        369289 non-null  float64\n",
      " 36  SKEW_REL_RR        369289 non-null  float64\n",
      "dtypes: float64(34), int64(1), object(2)\n",
      "memory usage: 107.1+ MB\n"
     ]
    }
   ],
   "source": [
    "df_merged.info()"
   ]
  },
  {
   "cell_type": "code",
   "execution_count": 7,
   "metadata": {},
   "outputs": [
    {
     "data": {
      "text/plain": [
       "uuid                 369289\n",
       "VLF                  369289\n",
       "VLF_PCT              369289\n",
       "LF                   369289\n",
       "LF_PCT               369289\n",
       "LF_NU                369289\n",
       "HF                   369289\n",
       "HF_PCT               369289\n",
       "HF_NU                369289\n",
       "TP                   369289\n",
       "LF_HF                369289\n",
       "HF_LF                369289\n",
       "SD1                  369289\n",
       "SD2                  369289\n",
       "sampen                82511\n",
       "higuci               369289\n",
       "datasetId                 1\n",
       "condition                 3\n",
       "MEAN_RR              369289\n",
       "MEDIAN_RR            106329\n",
       "SDRR                 369289\n",
       "RMSSD                369289\n",
       "SDSD                 369289\n",
       "SDRR_RMSSD           369289\n",
       "HR                   369289\n",
       "pNN25                   592\n",
       "pNN50                    83\n",
       "KURT                 369289\n",
       "SKEW                 369289\n",
       "MEAN_REL_RR          369289\n",
       "MEDIAN_REL_RR         25041\n",
       "SDRR_REL_RR          369289\n",
       "RMSSD_REL_RR         369289\n",
       "SDSD_REL_RR          369289\n",
       "SDRR_RMSSD_REL_RR    369289\n",
       "KURT_REL_RR          369289\n",
       "SKEW_REL_RR          369289\n",
       "dtype: int64"
      ]
     },
     "execution_count": 7,
     "metadata": {},
     "output_type": "execute_result"
    }
   ],
   "source": [
    "df_merged.nunique()"
   ]
  },
  {
   "cell_type": "code",
   "execution_count": 8,
   "metadata": {},
   "outputs": [
    {
     "data": {
      "text/plain": [
       "uuid                 0\n",
       "VLF                  0\n",
       "VLF_PCT              0\n",
       "LF                   0\n",
       "LF_PCT               0\n",
       "LF_NU                0\n",
       "HF                   0\n",
       "HF_PCT               0\n",
       "HF_NU                0\n",
       "TP                   0\n",
       "LF_HF                0\n",
       "HF_LF                0\n",
       "SD1                  0\n",
       "SD2                  0\n",
       "sampen               0\n",
       "higuci               0\n",
       "datasetId            0\n",
       "condition            0\n",
       "MEAN_RR              0\n",
       "MEDIAN_RR            0\n",
       "SDRR                 0\n",
       "RMSSD                0\n",
       "SDSD                 0\n",
       "SDRR_RMSSD           0\n",
       "HR                   0\n",
       "pNN25                0\n",
       "pNN50                0\n",
       "KURT                 0\n",
       "SKEW                 0\n",
       "MEAN_REL_RR          0\n",
       "MEDIAN_REL_RR        0\n",
       "SDRR_REL_RR          0\n",
       "RMSSD_REL_RR         0\n",
       "SDSD_REL_RR          0\n",
       "SDRR_RMSSD_REL_RR    0\n",
       "KURT_REL_RR          0\n",
       "SKEW_REL_RR          0\n",
       "dtype: int64"
      ]
     },
     "execution_count": 8,
     "metadata": {},
     "output_type": "execute_result"
    }
   ],
   "source": [
    "df_merged.isnull().sum()"
   ]
  },
  {
   "cell_type": "code",
   "execution_count": 9,
   "metadata": {},
   "outputs": [
    {
     "data": {
      "text/html": [
       "<div>\n",
       "<style scoped>\n",
       "    .dataframe tbody tr th:only-of-type {\n",
       "        vertical-align: middle;\n",
       "    }\n",
       "\n",
       "    .dataframe tbody tr th {\n",
       "        vertical-align: top;\n",
       "    }\n",
       "\n",
       "    .dataframe thead th {\n",
       "        text-align: right;\n",
       "    }\n",
       "</style>\n",
       "<table border=\"1\" class=\"dataframe\">\n",
       "  <thead>\n",
       "    <tr style=\"text-align: right;\">\n",
       "      <th></th>\n",
       "      <th>datasetId</th>\n",
       "      <th>HR</th>\n",
       "    </tr>\n",
       "  </thead>\n",
       "  <tbody>\n",
       "    <tr>\n",
       "      <th>0</th>\n",
       "      <td>2</td>\n",
       "      <td>69.499952</td>\n",
       "    </tr>\n",
       "    <tr>\n",
       "      <th>1</th>\n",
       "      <td>2</td>\n",
       "      <td>64.363150</td>\n",
       "    </tr>\n",
       "    <tr>\n",
       "      <th>2</th>\n",
       "      <td>2</td>\n",
       "      <td>67.450066</td>\n",
       "    </tr>\n",
       "    <tr>\n",
       "      <th>3</th>\n",
       "      <td>2</td>\n",
       "      <td>68.809562</td>\n",
       "    </tr>\n",
       "    <tr>\n",
       "      <th>4</th>\n",
       "      <td>2</td>\n",
       "      <td>74.565728</td>\n",
       "    </tr>\n",
       "  </tbody>\n",
       "</table>\n",
       "</div>"
      ],
      "text/plain": [
       "   datasetId         HR\n",
       "0          2  69.499952\n",
       "1          2  64.363150\n",
       "2          2  67.450066\n",
       "3          2  68.809562\n",
       "4          2  74.565728"
      ]
     },
     "execution_count": 9,
     "metadata": {},
     "output_type": "execute_result"
    }
   ],
   "source": [
    "df_merged[['datasetId','HR']].head()"
   ]
  },
  {
   "cell_type": "code",
   "execution_count": 10,
   "metadata": {},
   "outputs": [
    {
     "data": {
      "text/plain": [
       "pandas.core.series.Series"
      ]
     },
     "execution_count": 10,
     "metadata": {},
     "output_type": "execute_result"
    }
   ],
   "source": [
    "type(df_merged['datasetId'])"
   ]
  },
  {
   "cell_type": "code",
   "execution_count": 11,
   "metadata": {},
   "outputs": [
    {
     "data": {
      "text/plain": [
       "pandas.core.series.Series"
      ]
     },
     "execution_count": 11,
     "metadata": {},
     "output_type": "execute_result"
    }
   ],
   "source": [
    "type(df_merged['TP'])"
   ]
  },
  {
   "cell_type": "code",
   "execution_count": 12,
   "metadata": {},
   "outputs": [],
   "source": [
    "df_merged.drop(['uuid','datasetId'],inplace=True,axis=1)"
   ]
  },
  {
   "cell_type": "code",
   "execution_count": 13,
   "metadata": {},
   "outputs": [
    {
     "name": "stdout",
     "output_type": "stream",
     "text": [
      "<class 'pandas.core.frame.DataFrame'>\n",
      "Int64Index: 369289 entries, 0 to 369288\n",
      "Data columns (total 35 columns):\n",
      " #   Column             Non-Null Count   Dtype  \n",
      "---  ------             --------------   -----  \n",
      " 0   VLF                369289 non-null  float64\n",
      " 1   VLF_PCT            369289 non-null  float64\n",
      " 2   LF                 369289 non-null  float64\n",
      " 3   LF_PCT             369289 non-null  float64\n",
      " 4   LF_NU              369289 non-null  float64\n",
      " 5   HF                 369289 non-null  float64\n",
      " 6   HF_PCT             369289 non-null  float64\n",
      " 7   HF_NU              369289 non-null  float64\n",
      " 8   TP                 369289 non-null  float64\n",
      " 9   LF_HF              369289 non-null  float64\n",
      " 10  HF_LF              369289 non-null  float64\n",
      " 11  SD1                369289 non-null  float64\n",
      " 12  SD2                369289 non-null  float64\n",
      " 13  sampen             369289 non-null  float64\n",
      " 14  higuci             369289 non-null  float64\n",
      " 15  condition          369289 non-null  object \n",
      " 16  MEAN_RR            369289 non-null  float64\n",
      " 17  MEDIAN_RR          369289 non-null  float64\n",
      " 18  SDRR               369289 non-null  float64\n",
      " 19  RMSSD              369289 non-null  float64\n",
      " 20  SDSD               369289 non-null  float64\n",
      " 21  SDRR_RMSSD         369289 non-null  float64\n",
      " 22  HR                 369289 non-null  float64\n",
      " 23  pNN25              369289 non-null  float64\n",
      " 24  pNN50              369289 non-null  float64\n",
      " 25  KURT               369289 non-null  float64\n",
      " 26  SKEW               369289 non-null  float64\n",
      " 27  MEAN_REL_RR        369289 non-null  float64\n",
      " 28  MEDIAN_REL_RR      369289 non-null  float64\n",
      " 29  SDRR_REL_RR        369289 non-null  float64\n",
      " 30  RMSSD_REL_RR       369289 non-null  float64\n",
      " 31  SDSD_REL_RR        369289 non-null  float64\n",
      " 32  SDRR_RMSSD_REL_RR  369289 non-null  float64\n",
      " 33  KURT_REL_RR        369289 non-null  float64\n",
      " 34  SKEW_REL_RR        369289 non-null  float64\n",
      "dtypes: float64(34), object(1)\n",
      "memory usage: 101.4+ MB\n"
     ]
    }
   ],
   "source": [
    "df_merged.info()"
   ]
  },
  {
   "cell_type": "code",
   "execution_count": 14,
   "metadata": {},
   "outputs": [
    {
     "data": {
      "text/plain": [
       "array(['no stress', 'interruption', 'time pressure'], dtype=object)"
      ]
     },
     "execution_count": 14,
     "metadata": {},
     "output_type": "execute_result"
    }
   ],
   "source": [
    "df_merged['condition'].unique()"
   ]
  },
  {
   "cell_type": "code",
   "execution_count": 15,
   "metadata": {},
   "outputs": [
    {
     "name": "stdout",
     "output_type": "stream",
     "text": [
      "['no stress' 'interruption' 'time pressure']\n"
     ]
    }
   ],
   "source": [
    "print(df_merged['condition'].unique())\n",
    "oneHotCols=['condition']\n",
    "df_merged_final=pd.get_dummies(df_merged,columns=oneHotCols)\n",
    "#df_merged_final['condition'].head(10)"
   ]
  },
  {
   "cell_type": "code",
   "execution_count": 16,
   "metadata": {},
   "outputs": [
    {
     "name": "stdout",
     "output_type": "stream",
     "text": [
      "<class 'pandas.core.frame.DataFrame'>\n",
      "Int64Index: 369289 entries, 0 to 369288\n",
      "Data columns (total 37 columns):\n",
      " #   Column                   Non-Null Count   Dtype  \n",
      "---  ------                   --------------   -----  \n",
      " 0   VLF                      369289 non-null  float64\n",
      " 1   VLF_PCT                  369289 non-null  float64\n",
      " 2   LF                       369289 non-null  float64\n",
      " 3   LF_PCT                   369289 non-null  float64\n",
      " 4   LF_NU                    369289 non-null  float64\n",
      " 5   HF                       369289 non-null  float64\n",
      " 6   HF_PCT                   369289 non-null  float64\n",
      " 7   HF_NU                    369289 non-null  float64\n",
      " 8   TP                       369289 non-null  float64\n",
      " 9   LF_HF                    369289 non-null  float64\n",
      " 10  HF_LF                    369289 non-null  float64\n",
      " 11  SD1                      369289 non-null  float64\n",
      " 12  SD2                      369289 non-null  float64\n",
      " 13  sampen                   369289 non-null  float64\n",
      " 14  higuci                   369289 non-null  float64\n",
      " 15  MEAN_RR                  369289 non-null  float64\n",
      " 16  MEDIAN_RR                369289 non-null  float64\n",
      " 17  SDRR                     369289 non-null  float64\n",
      " 18  RMSSD                    369289 non-null  float64\n",
      " 19  SDSD                     369289 non-null  float64\n",
      " 20  SDRR_RMSSD               369289 non-null  float64\n",
      " 21  HR                       369289 non-null  float64\n",
      " 22  pNN25                    369289 non-null  float64\n",
      " 23  pNN50                    369289 non-null  float64\n",
      " 24  KURT                     369289 non-null  float64\n",
      " 25  SKEW                     369289 non-null  float64\n",
      " 26  MEAN_REL_RR              369289 non-null  float64\n",
      " 27  MEDIAN_REL_RR            369289 non-null  float64\n",
      " 28  SDRR_REL_RR              369289 non-null  float64\n",
      " 29  RMSSD_REL_RR             369289 non-null  float64\n",
      " 30  SDSD_REL_RR              369289 non-null  float64\n",
      " 31  SDRR_RMSSD_REL_RR        369289 non-null  float64\n",
      " 32  KURT_REL_RR              369289 non-null  float64\n",
      " 33  SKEW_REL_RR              369289 non-null  float64\n",
      " 34  condition_interruption   369289 non-null  uint8  \n",
      " 35  condition_no stress      369289 non-null  uint8  \n",
      " 36  condition_time pressure  369289 non-null  uint8  \n",
      "dtypes: float64(34), uint8(3)\n",
      "memory usage: 99.7 MB\n"
     ]
    }
   ],
   "source": [
    "df_merged_final.info()"
   ]
  },
  {
   "cell_type": "code",
   "execution_count": 17,
   "metadata": {},
   "outputs": [
    {
     "data": {
      "image/png": "[encoded data removed]",
      "text/plain": [
       "<Figure size 1728x1152 with 2 Axes>"
      ]
     },
     "metadata": {
      "needs_background": "light"
     },
     "output_type": "display_data"
    }
   ],
   "source": [
    "plt.figure(figsize=(24,16))  #setting the figure size\n",
    "sns.heatmap(df_merged_final.corr(), cmap='plasma')  #heat map to plot the above table\n",
    "plt.show()"
   ]
  },
  {
   "cell_type": "code",
   "execution_count": 18,
   "metadata": {},
   "outputs": [],
   "source": [
    "corr = df_merged_final.corr()"
   ]
  },
  {
   "cell_type": "code",
   "execution_count": 19,
   "metadata": {},
   "outputs": [
    {
     "name": "stdout",
     "output_type": "stream",
     "text": [
      "(369289,)\n",
      "<class 'pandas.core.series.Series'>\n"
     ]
    }
   ],
   "source": [
    "X_train =  df_merged_final.drop('HR',axis=1)     # Predictor feature columns \n",
    "y_train =  df_merged_final['HR']   # Target column\n",
    "y_train.head()\n",
    "print(y_train.shape)\n",
    "print(type(y_train))"
   ]
  },
  {
   "cell_type": "code",
   "execution_count": 20,
   "metadata": {},
   "outputs": [],
   "source": [
    "from scipy.stats import zscore\n",
    "X_train_z = X_train.apply(zscore)\n",
    "y_train_1 = df_merged_final.apply(zscore)"
   ]
  },
  {
   "cell_type": "code",
   "execution_count": 21,
   "metadata": {},
   "outputs": [
    {
     "name": "stdout",
     "output_type": "stream",
     "text": [
      "(369289,)\n"
     ]
    },
    {
     "data": {
      "text/plain": [
       "0        -0.429688\n",
       "1        -0.926600\n",
       "2        -0.627985\n",
       "3        -0.496473\n",
       "4         0.060354\n",
       "            ...   \n",
       "369284    0.913459\n",
       "369285   -1.221539\n",
       "369286   -1.442643\n",
       "369287    0.197032\n",
       "369288    0.024772\n",
       "Name: HR, Length: 369289, dtype: float64"
      ]
     },
     "execution_count": 21,
     "metadata": {},
     "output_type": "execute_result"
    }
   ],
   "source": [
    "y_train_z = y_train_1['HR']\n",
    "print(y_train_z.shape)\n",
    "y_train_z"
   ]
  },
  {
   "cell_type": "code",
   "execution_count": 22,
   "metadata": {},
   "outputs": [
    {
     "data": {
      "text/plain": [
       "Index(['VLF', 'VLF_PCT', 'LF', 'LF_PCT', 'LF_NU', 'HF', 'HF_PCT', 'HF_NU',\n",
       "       'TP', 'LF_HF', 'HF_LF', 'SD1', 'SD2', 'sampen', 'higuci', 'MEAN_RR',\n",
       "       'MEDIAN_RR', 'SDRR', 'RMSSD', 'SDSD', 'SDRR_RMSSD', 'pNN25', 'pNN50',\n",
       "       'KURT', 'SKEW', 'MEAN_REL_RR', 'MEDIAN_REL_RR', 'SDRR_REL_RR',\n",
       "       'RMSSD_REL_RR', 'SDSD_REL_RR', 'SDRR_RMSSD_REL_RR', 'KURT_REL_RR',\n",
       "       'SKEW_REL_RR', 'condition_interruption', 'condition_no stress',\n",
       "       'condition_time pressure'],\n",
       "      dtype='object')"
      ]
     },
     "execution_count": 22,
     "metadata": {},
     "output_type": "execute_result"
    }
   ],
   "source": [
    "X_train_z.columns"
   ]
  },
  {
   "cell_type": "code",
   "execution_count": 23,
   "metadata": {},
   "outputs": [
    {
     "name": "stdout",
     "output_type": "stream",
     "text": [
      "Index(['VLF', 'VLF_PCT', 'LF', 'LF_PCT', 'LF_NU', 'HF', 'HF_PCT', 'HF_NU',\n",
      "       'TP', 'LF_HF', 'HF_LF', 'SD1', 'SD2', 'sampen', 'higuci', 'MEAN_RR',\n",
      "       'MEDIAN_RR', 'SDRR', 'RMSSD', 'SDSD', 'SDRR_RMSSD', 'pNN25', 'pNN50',\n",
      "       'KURT', 'SKEW', 'MEAN_REL_RR', 'MEDIAN_REL_RR', 'SDRR_REL_RR',\n",
      "       'RMSSD_REL_RR', 'SDSD_REL_RR', 'SDRR_RMSSD_REL_RR', 'KURT_REL_RR',\n",
      "       'SKEW_REL_RR', 'condition_interruption', 'condition_no stress',\n",
      "       'condition_time pressure'],\n",
      "      dtype='object')\n",
      "0\n"
     ]
    },
    {
     "data": {
      "image/png": "[encoded data removed]",
      "text/plain": [
       "<Figure size 1440x576 with 1 Axes>"
      ]
     },
     "metadata": {
      "needs_background": "light"
     },
     "output_type": "display_data"
    },
    {
     "name": "stdout",
     "output_type": "stream",
     "text": [
      "4\n"
     ]
    },
    {
     "data": {
      "image/png": "[encoded data removed]",
      "text/plain": [
       "<Figure size 1440x576 with 1 Axes>"
      ]
     },
     "metadata": {
      "needs_background": "light"
     },
     "output_type": "display_data"
    },
    {
     "name": "stdout",
     "output_type": "stream",
     "text": [
      "8\n"
     ]
    },
    {
     "data": {
      "image/png": "[encoded data removed]",
      "text/plain": [
       "<Figure size 1440x576 with 1 Axes>"
      ]
     },
     "metadata": {
      "needs_background": "light"
     },
     "output_type": "display_data"
    },
    {
     "name": "stdout",
     "output_type": "stream",
     "text": [
      "12\n"
     ]
    },
    {
     "data": {
      "image/png": "[encoded data removed]",
      "text/plain": [
       "<Figure size 1440x576 with 1 Axes>"
      ]
     },
     "metadata": {
      "needs_background": "light"
     },
     "output_type": "display_data"
    },
    {
     "name": "stdout",
     "output_type": "stream",
     "text": [
      "16\n"
     ]
    },
    {
     "data": {
      "image/png": "[encoded data removed]",
      "text/plain": [
       "<Figure size 1440x576 with 1 Axes>"
      ]
     },
     "metadata": {
      "needs_background": "light"
     },
     "output_type": "display_data"
    },
    {
     "name": "stdout",
     "output_type": "stream",
     "text": [
      "20\n"
     ]
    },
    {
     "data": {
      "image/png": "[encoded data removed]",
      "text/plain": [
       "<Figure size 1440x576 with 1 Axes>"
      ]
     },
     "metadata": {
      "needs_background": "light"
     },
     "output_type": "display_data"
    },
    {
     "name": "stdout",
     "output_type": "stream",
     "text": [
      "24\n"
     ]
    },
    {
     "data": {
      "image/png": "[encoded data removed]",
      "text/plain": [
       "<Figure size 1440x576 with 1 Axes>"
      ]
     },
     "metadata": {
      "needs_background": "light"
     },
     "output_type": "display_data"
    },
    {
     "name": "stdout",
     "output_type": "stream",
     "text": [
      "28\n"
     ]
    },
    {
     "data": {
      "image/png": "[encoded data removed]",
      "text/plain": [
       "<Figure size 1440x576 with 1 Axes>"
      ]
     },
     "metadata": {
      "needs_background": "light"
     },
     "output_type": "display_data"
    },
    {
     "name": "stdout",
     "output_type": "stream",
     "text": [
      "32\n"
     ]
    },
    {
     "data": {
      "image/png": "[encoded data removed]",
      "text/plain": [
       "<Figure size 1440x576 with 1 Axes>"
      ]
     },
     "metadata": {
      "needs_background": "light"
     },
     "output_type": "display_data"
    },
    {
     "data": {
      "text/plain": [
       "<Figure size 432x288 with 0 Axes>"
      ]
     },
     "metadata": {},
     "output_type": "display_data"
    }
   ],
   "source": [
    "print(X_train_z.columns)\n",
    "for i in np.arange(0,36,4):\n",
    "    print(i)\n",
    "    X_train_z[[X_train_z.columns[i],X_train_z.columns[i+1],X_train_z.columns[i+2],X_train_z.columns[i+3]]].boxplot(figsize=(20,8))\n",
    "    plt.show()\n",
    "plt.tight_layout()"
   ]
  },
  {
   "cell_type": "code",
   "execution_count": null,
   "metadata": {},
   "outputs": [],
   "source": []
  },
  {
   "cell_type": "code",
   "execution_count": 24,
   "metadata": {},
   "outputs": [
    {
     "ename": "NameError",
     "evalue": "name 'df_z' is not defined",
     "output_type": "error",
     "traceback": [
      "\u001b[1;31m---------------------------------------------------------------------------\u001b[0m",
      "\u001b[1;31mNameError\u001b[0m                                 Traceback (most recent call last)",
      "\u001b[1;32m<ipython-input-24-51fbeb5d097c>\u001b[0m in \u001b[0;36m<module>\u001b[1;34m\u001b[0m\n\u001b[1;32m----> 1\u001b[1;33m \u001b[0mdf_z\u001b[0m\u001b[1;33m.\u001b[0m\u001b[0mcolumns\u001b[0m\u001b[1;33m\u001b[0m\u001b[1;33m\u001b[0m\u001b[0m\n\u001b[0m",
      "\u001b[1;31mNameError\u001b[0m: name 'df_z' is not defined"
     ]
    }
   ],
   "source": [
    "#df_z.columns"
   ]
  },
  {
   "cell_type": "code",
   "execution_count": 25,
   "metadata": {},
   "outputs": [
    {
     "name": "stdout",
     "output_type": "stream",
     "text": [
      "[[ 1.00000271  0.67662983  0.0265213  ...  0.00242999 -0.16311397\n",
      "   0.21174151]\n",
      " [ 0.67662983  1.00000271 -0.54197741 ... -0.13978593 -0.02830262\n",
      "   0.20384696]\n",
      " [ 0.0265213  -0.54197741  1.00000271 ...  0.22897995 -0.1419873\n",
      "  -0.08607273]\n",
      " ...\n",
      " [ 0.00242999 -0.13978593  0.22897995 ...  1.00000271 -0.68609523\n",
      "  -0.28903991]\n",
      " [-0.16311397 -0.02830262 -0.1419873  ... -0.68609523  1.00000271\n",
      "  -0.49815477]\n",
      " [ 0.21174151  0.20384696 -0.08607273 ... -0.28903991 -0.49815477\n",
      "   1.00000271]]\n"
     ]
    }
   ],
   "source": [
    "covMatrix = np.cov(X_train_z,rowvar=False)\n",
    "print(covMatrix)"
   ]
  },
  {
   "cell_type": "code",
   "execution_count": null,
   "metadata": {},
   "outputs": [],
   "source": []
  },
  {
   "cell_type": "code",
   "execution_count": 26,
   "metadata": {},
   "outputs": [
    {
     "data": {
      "text/plain": [
       "(369289, 36)"
      ]
     },
     "execution_count": 26,
     "metadata": {},
     "output_type": "execute_result"
    }
   ],
   "source": [
    "X_train_z.shape"
   ]
  },
  {
   "cell_type": "code",
   "execution_count": 27,
   "metadata": {},
   "outputs": [
    {
     "data": {
      "text/plain": [
       "PCA(n_components=36)"
      ]
     },
     "execution_count": 27,
     "metadata": {},
     "output_type": "execute_result"
    }
   ],
   "source": [
    "from sklearn.decomposition import PCA\n",
    "pca = PCA(n_components=36)\n",
    "pca.fit(X_train_z)\n",
    "#ata_reduced = pca.fit_transform(df_z)\n",
    "#ata_reduced.transpose()"
   ]
  },
  {
   "cell_type": "code",
   "execution_count": 28,
   "metadata": {},
   "outputs": [
    {
     "name": "stdout",
     "output_type": "stream",
     "text": [
      "[8.95514737e+00 8.59045139e+00 6.38203854e+00 2.52872748e+00\n",
      " 1.61759654e+00 1.37484796e+00 1.10966909e+00 9.84259700e-01\n",
      " 9.69844960e-01 9.39974889e-01 6.07348505e-01 4.98624171e-01\n",
      " 3.70955961e-01 2.46314907e-01 2.26131542e-01 2.08503797e-01\n",
      " 1.08853012e-01 8.73192444e-02 5.64264279e-02 4.49027518e-02\n",
      " 3.08241152e-02 2.52260694e-02 1.43473757e-02 1.32797156e-02\n",
      " 6.09043022e-03 2.39124561e-03 1.59537536e-07 1.20738169e-07\n",
      " 4.17385151e-11 4.55998131e-29 1.95914281e-29 7.63825129e-30\n",
      " 7.59862682e-30 2.97726804e-30 2.72279626e-30 9.48465629e-31]\n"
     ]
    }
   ],
   "source": [
    "print(pca.explained_variance_)"
   ]
  },
  {
   "cell_type": "code",
   "execution_count": 29,
   "metadata": {},
   "outputs": [
    {
     "name": "stdout",
     "output_type": "stream",
     "text": [
      "[[-1.44352833e-01 -1.96144306e-01  8.14806907e-02 ...  1.22572229e-02\n",
      "   6.76023625e-02 -1.03565105e-01]\n",
      " [-1.75376313e-01  4.09980640e-02 -2.80403739e-01 ... -7.98775375e-02\n",
      "   9.12653658e-02 -2.48916141e-02]\n",
      " [ 2.47996104e-01  2.72554804e-01 -1.48238535e-01 ... -7.59340736e-02\n",
      "   5.39392173e-02  1.95249269e-02]\n",
      " ...\n",
      " [ 0.00000000e+00  6.55058406e-01 -5.83734450e-16 ...  1.60227701e-02\n",
      "   1.76900831e-02  1.34435829e-02]\n",
      " [-0.00000000e+00 -2.44096089e-02  6.32767493e-16 ... -1.61275653e-02\n",
      "  -1.78057831e-02 -1.35315091e-02]\n",
      " [-0.00000000e+00 -2.94536807e-01  1.72951931e-15 ... -1.01244801e-02\n",
      "  -1.11780231e-02 -8.49474130e-03]]\n"
     ]
    }
   ],
   "source": [
    "print(pca.components_)"
   ]
  },
  {
   "cell_type": "code",
   "execution_count": 30,
   "metadata": {},
   "outputs": [
    {
     "name": "stdout",
     "output_type": "stream",
     "text": [
      "[2.48753420e-01 2.38623004e-01 1.77278368e-01 7.02422398e-02\n",
      " 4.49331155e-02 3.81901178e-02 3.08240581e-02 2.73404732e-02\n",
      " 2.69400648e-02 2.61103429e-02 1.68707461e-02 1.38506339e-02\n",
      " 1.03043043e-02 6.84206221e-03 6.28141472e-03 5.79175646e-03\n",
      " 3.02368658e-03 2.42552800e-03 1.56739653e-03 1.24729528e-03\n",
      " 8.56223104e-04 7.00722252e-04 3.98537136e-04 3.68879989e-04\n",
      " 1.69178159e-04 6.64233094e-05 4.43158621e-09 3.35382896e-09\n",
      " 1.15940006e-12 1.26665805e-30 5.44204863e-31 2.12173072e-31\n",
      " 2.11072396e-31 8.27016661e-32 7.56330246e-32 2.63461961e-32]\n"
     ]
    }
   ],
   "source": [
    "print(pca.explained_variance_ratio_)"
   ]
  },
  {
   "cell_type": "code",
   "execution_count": 31,
   "metadata": {},
   "outputs": [
    {
     "data": {
      "image/png": "[encoded data removed]",
      "text/plain": [
       "<Figure size 1008x720 with 1 Axes>"
      ]
     },
     "metadata": {
      "needs_background": "light"
     },
     "output_type": "display_data"
    }
   ],
   "source": [
    "plt.figure(figsize=(14,10)) \n",
    "plt.bar(list(range(1,37)),pca.explained_variance_ratio_,alpha=0.5, align='center')\n",
    "plt.ylabel('Variation explained')\n",
    "plt.xlabel('eigen Value')\n",
    "plt.show()"
   ]
  },
  {
   "cell_type": "code",
   "execution_count": 32,
   "metadata": {},
   "outputs": [
    {
     "data": {
      "text/plain": [
       "0.9599565841312381"
      ]
     },
     "execution_count": 32,
     "metadata": {},
     "output_type": "execute_result"
    }
   ],
   "source": [
    "n_comp = 12\n",
    "np.sum(pca.explained_variance_ratio_[0:n_comp])"
   ]
  },
  {
   "cell_type": "code",
   "execution_count": 33,
   "metadata": {},
   "outputs": [
    {
     "data": {
      "text/plain": [
       "(36,)"
      ]
     },
     "execution_count": 33,
     "metadata": {},
     "output_type": "execute_result"
    }
   ],
   "source": [
    "pca.explained_variance_ratio_.shape"
   ]
  },
  {
   "cell_type": "code",
   "execution_count": 34,
   "metadata": {},
   "outputs": [
    {
     "data": {
      "image/png": "[encoded data removed]",
      "text/plain": [
       "<Figure size 1008x720 with 1 Axes>"
      ]
     },
     "metadata": {
      "needs_background": "light"
     },
     "output_type": "display_data"
    }
   ],
   "source": [
    "plt.figure(figsize=(14,10)) \n",
    "plt.step(list(range(1,37)),np.cumsum(pca.explained_variance_ratio_), where='mid')\n",
    "plt.ylabel('Cum of variation explained')\n",
    "plt.xlabel('eigen Value')\n",
    "plt.show()"
   ]
  },
  {
   "cell_type": "code",
   "execution_count": 35,
   "metadata": {},
   "outputs": [
    {
     "name": "stdout",
     "output_type": "stream",
     "text": [
      "[0.24875342 0.238623   0.17727837 0.07024224 0.04493312 0.03819012\n",
      " 0.03082406 0.02734047 0.02694006 0.02611034 0.01687075 0.01385063]\n",
      "0.9599565841312316\n",
      "(369289, 12)\n"
     ]
    }
   ],
   "source": [
    "n_comp=12\n",
    "pca12 = PCA(n_components=n_comp)\n",
    "pca12.fit(X_train_z)\n",
    "#print(pca12.components_)\n",
    "print(pca12.explained_variance_ratio_)\n",
    "print(np.sum(pca12.explained_variance_ratio_[0:n_comp]))\n",
    "Xpca12 = pca12.transform(X_train_z)\n",
    "print(Xpca12.shape)"
   ]
  },
  {
   "cell_type": "markdown",
   "metadata": {},
   "source": [
    "# Gradient Boost Regressor"
   ]
  },
  {
   "cell_type": "code",
   "execution_count": 36,
   "metadata": {},
   "outputs": [],
   "source": [
    "from sklearn.ensemble import GradientBoostingRegressor as gbr\n",
    "from sklearn.model_selection import train_test_split\n",
    "from sklearn.metrics import mean_squared_error"
   ]
  },
  {
   "cell_type": "code",
   "execution_count": 37,
   "metadata": {},
   "outputs": [],
   "source": [
    "params_GBR = {'loss': 'ls',\n",
    "          'learning_rate': 0.03,\n",
    "          'n_estimators': 50,\n",
    "          'subsample': 0.8,\n",
    "          'max_depth': 10,\n",
    "          'max_features': 0.3,\n",
    "          'min_impurity_decrease': 1e-10,\n",
    "          'min_samples_leaf': 5\n",
    "         }"
   ]
  },
  {
   "cell_type": "code",
   "execution_count": 38,
   "metadata": {},
   "outputs": [
    {
     "name": "stdout",
     "output_type": "stream",
     "text": [
      "Gradient Boost Model\n"
     ]
    }
   ],
   "source": [
    "print('Gradient Boost Model')\n",
    "reg = gbr(random_state=98,**params_GBR)\n",
    "reg.fit(Xpca12, y_train)\n",
    "y_pred = reg.predict(Xpca12)"
   ]
  },
  {
   "cell_type": "code",
   "execution_count": 39,
   "metadata": {},
   "outputs": [
    {
     "data": {
      "text/plain": [
       "0.03470435639350449"
      ]
     },
     "execution_count": 39,
     "metadata": {},
     "output_type": "execute_result"
    }
   ],
   "source": [
    "nrmse = np.sqrt(mean_squared_error(y_train, y_pred)) / np.mean(y_train)\n",
    "nrmse"
   ]
  },
  {
   "cell_type": "code",
   "execution_count": 40,
   "metadata": {},
   "outputs": [
    {
     "data": {
      "text/plain": [
       "2.0154047994070963"
      ]
     },
     "execution_count": 40,
     "metadata": {},
     "output_type": "execute_result"
    }
   ],
   "source": [
    "MAE_error = np.sum(abs(y_pred-y_train))/(y_train.shape[0])\n",
    "MAE_error"
   ]
  },
  {
   "cell_type": "code",
   "execution_count": 41,
   "metadata": {},
   "outputs": [
    {
     "data": {
      "text/plain": [
       "2.0154047994070963"
      ]
     },
     "execution_count": 41,
     "metadata": {},
     "output_type": "execute_result"
    }
   ],
   "source": [
    "MAE_error"
   ]
  },
  {
   "cell_type": "code",
   "execution_count": 42,
   "metadata": {},
   "outputs": [
    {
     "data": {
      "text/plain": [
       "73.94182397352273"
      ]
     },
     "execution_count": 42,
     "metadata": {},
     "output_type": "execute_result"
    }
   ],
   "source": [
    "np.mean(y_train)"
   ]
  },
  {
   "cell_type": "code",
   "execution_count": 43,
   "metadata": {},
   "outputs": [],
   "source": [
    "n_rows = 10000\n",
    "#Xpca12_nrows=Xpca12.iloc"
   ]
  },
  {
   "cell_type": "code",
   "execution_count": 44,
   "metadata": {},
   "outputs": [
    {
     "name": "stdout",
     "output_type": "stream",
     "text": [
      "[69.56568994 66.97302754 69.48870999 69.67494712 74.05775308 79.76968465\n",
      " 65.42128067 83.11066971 74.55165758 65.23802746 71.70477345 67.46273052\n",
      " 83.88871964 77.41808908 74.24126918 93.31939151 68.35532596 79.071357\n",
      " 76.21492148 75.81619681]\n"
     ]
    }
   ],
   "source": [
    "print(y_pred[0:20])"
   ]
  },
  {
   "cell_type": "code",
   "execution_count": 45,
   "metadata": {},
   "outputs": [
    {
     "name": "stdout",
     "output_type": "stream",
     "text": [
      "0     69.499952\n",
      "1     64.363150\n",
      "2     67.450066\n",
      "3     68.809562\n",
      "4     74.565728\n",
      "5     81.342254\n",
      "6     62.095066\n",
      "7     85.857703\n",
      "8     74.588857\n",
      "9     62.726998\n",
      "10    71.040116\n",
      "11    65.443870\n",
      "12    87.103763\n",
      "13    77.996914\n",
      "14    74.433094\n",
      "15    99.328670\n",
      "16    66.594255\n",
      "17    80.961985\n",
      "18    77.604869\n",
      "19    74.884631\n",
      "Name: HR, dtype: float64\n"
     ]
    }
   ],
   "source": [
    "print(y_train[0:20])"
   ]
  },
  {
   "cell_type": "code",
   "execution_count": 46,
   "metadata": {},
   "outputs": [
    {
     "data": {
      "text/plain": [
       "0    -0.065738\n",
       "1    -2.609878\n",
       "2    -2.038644\n",
       "3    -0.865385\n",
       "4     0.507974\n",
       "5     1.572569\n",
       "6    -3.326215\n",
       "7     2.747034\n",
       "8     0.037199\n",
       "9    -2.511030\n",
       "10   -0.664658\n",
       "11   -2.018861\n",
       "12    3.215043\n",
       "13    0.578825\n",
       "14    0.191825\n",
       "15    6.009279\n",
       "16   -1.761071\n",
       "17    1.890628\n",
       "18    1.389947\n",
       "19   -0.931566\n",
       "Name: HR, dtype: float64"
      ]
     },
     "execution_count": 46,
     "metadata": {},
     "output_type": "execute_result"
    }
   ],
   "source": [
    "MAE_trial = y_train[0:20]-y_pred[0:20]\n",
    "MAE_trial"
   ]
  },
  {
   "cell_type": "code",
   "execution_count": 50,
   "metadata": {},
   "outputs": [
    {
     "data": {
      "text/plain": [
       "LinearRegression()"
      ]
     },
     "execution_count": 50,
     "metadata": {},
     "output_type": "execute_result"
    }
   ],
   "source": [
    "regression_model = LinearRegression()\n",
    "regression_model.fit(Xpca12, y_train)\n",
    "\n",
    "#for idx, col_name in enumerate(Xpca12.columns):\n",
    "#    print(\"The coefficient for {} is {}\".format(col_name, regression_model.coef_[0][idx]))"
   ]
  },
  {
   "cell_type": "code",
   "execution_count": 54,
   "metadata": {},
   "outputs": [],
   "source": [
    "#intercept = regression_model.intercept_[0]\n",
    "\n",
    "#print(\"The intercept for our model is {}\".format(intercept))\n",
    "#intercept"
   ]
  },
  {
   "cell_type": "code",
   "execution_count": 55,
   "metadata": {},
   "outputs": [],
   "source": [
    "y_pred = regression_model.predict(Xpca12) "
   ]
  },
  {
   "cell_type": "code",
   "execution_count": 56,
   "metadata": {},
   "outputs": [
    {
     "name": "stdout",
     "output_type": "stream",
     "text": [
      "[ 69.57004866  67.52272834  69.0738867   68.45189413  72.10840629\n",
      "  85.03368166  65.84594106  89.62492421  75.44188515  65.14326228\n",
      "  72.23992621  68.15234224  83.47713327  77.47682216  72.40402713\n",
      " 101.41753125  67.22350053  80.84424365  78.75861632  77.07310878]\n"
     ]
    }
   ],
   "source": [
    "print(y_pred[0:20])"
   ]
  },
  {
   "cell_type": "code",
   "execution_count": 57,
   "metadata": {},
   "outputs": [
    {
     "data": {
      "text/plain": [
       "1.7428163794351383"
      ]
     },
     "execution_count": 57,
     "metadata": {},
     "output_type": "execute_result"
    }
   ],
   "source": [
    "MAE_error = np.sum(abs(y_pred-y_train))/(y_train.shape[0])\n",
    "MAE_error"
   ]
  },
  {
   "cell_type": "code",
   "execution_count": 58,
   "metadata": {},
   "outputs": [
    {
     "data": {
      "text/plain": [
       "0.032639112878180825"
      ]
     },
     "execution_count": 58,
     "metadata": {},
     "output_type": "execute_result"
    }
   ],
   "source": [
    "nrmse = np.sqrt(mean_squared_error(y_train, y_pred)) / np.mean(y_train)\n",
    "nrmse"
   ]
  },
  {
   "cell_type": "code",
   "execution_count": null,
   "metadata": {},
   "outputs": [],
   "source": [
    "\n",
    "\n",
    "## Plot deviance\n",
    "deviance(reg, X_test, y_test, plot=True)\n",
    "#Model scores\n",
    "nrmse = np.sqrt(mean_squared_error(y_test, y_pred)) / np.mean(y_test)\n",
    "print(\"R^2 score on training data: {}\".format(reg.score(X_train,y_train)))\n",
    "print(\"R^2 score on holdout test data: {}\".format(reg.score(X_test,y_test)))\n",
    "print(\"Holdout loss: {}, NRSME: {}\".format(reg.loss_(y_test,y_pred),nrmse))\n",
    "\n",
    "plt.figure(figsize=(5,5))\n",
    "plt.plot(np.linspace(0,200,10),np.linspace(0,200,10),'-k')\n",
    "plt.scatter(y_test, y_pred, s=2)\n",
    "plt.xlabel('test');plt.ylabel('prediction'),plt.title('GHF (Predictied vs Test)')\n",
    "plt.grid();plt.xlim(20,140);plt.ylim(20,140)"
   ]
  },
  {
   "cell_type": "code",
   "execution_count": null,
   "metadata": {},
   "outputs": [],
   "source": []
  },
  {
   "cell_type": "code",
   "execution_count": null,
   "metadata": {},
   "outputs": [],
   "source": []
  },
  {
   "cell_type": "code",
   "execution_count": null,
   "metadata": {},
   "outputs": [],
   "source": [
    "df_comp = pd.DataFrame(pca.components_,columns=list(df_z))\n",
    "df_comp.head()\n",
    "print(df_comp.shape)"
   ]
  },
  {
   "cell_type": "code",
   "execution_count": null,
   "metadata": {},
   "outputs": [],
   "source": [
    "plt.figure(figsize=(12,6))\n",
    "sns.heatmap(df_comp,cmap='plasma',)"
   ]
  },
  {
   "cell_type": "code",
   "execution_count": null,
   "metadata": {},
   "outputs": [],
   "source": []
  },
  {
   "cell_type": "code",
   "execution_count": null,
   "metadata": {},
   "outputs": [],
   "source": []
  },
  {
   "cell_type": "code",
   "execution_count": null,
   "metadata": {},
   "outputs": [],
   "source": []
  },
  {
   "cell_type": "code",
   "execution_count": null,
   "metadata": {},
   "outputs": [],
   "source": []
  },
  {
   "cell_type": "markdown",
   "metadata": {},
   "source": [
    "No Null values. 8 Quantitative, continuous features."
   ]
  },
  {
   "cell_type": "code",
   "execution_count": null,
   "metadata": {},
   "outputs": [],
   "source": [
    "df_heart['condition'].unique()"
   ]
  },
  {
   "cell_type": "code",
   "execution_count": null,
   "metadata": {},
   "outputs": [],
   "source": [
    "all_cols = s1.index.tolist()\n",
    "numeric_cols = s1.index.tolist()\n",
    "print(numeric_cols)\n",
    "numeric_cols.remove('strength')\n",
    "print(numeric_cols)"
   ]
  },
  {
   "cell_type": "code",
   "execution_count": null,
   "metadata": {},
   "outputs": [],
   "source": [
    "univariate_numerical(df_freq).T"
   ]
  },
  {
   "cell_type": "code",
   "execution_count": null,
   "metadata": {},
   "outputs": [],
   "source": [
    "univariate_numerical(df_heart).T"
   ]
  },
  {
   "cell_type": "code",
   "execution_count": null,
   "metadata": {},
   "outputs": [],
   "source": [
    "univariate_numerical(df_time).T"
   ]
  },
  {
   "cell_type": "code",
   "execution_count": null,
   "metadata": {},
   "outputs": [],
   "source": [
    "plt.figure(figsize=(12,8))\n",
    "sns.distplot(df_time['HR'],bins=2000)"
   ]
  },
  {
   "cell_type": "code",
   "execution_count": null,
   "metadata": {},
   "outputs": [],
   "source": []
  },
  {
   "cell_type": "code",
   "execution_count": null,
   "metadata": {},
   "outputs": [],
   "source": []
  },
  {
   "cell_type": "code",
   "execution_count": null,
   "metadata": {},
   "outputs": [],
   "source": []
  },
  {
   "cell_type": "code",
   "execution_count": null,
   "metadata": {},
   "outputs": [],
   "source": []
  },
  {
   "cell_type": "code",
   "execution_count": null,
   "metadata": {},
   "outputs": [],
   "source": []
  },
  {
   "cell_type": "code",
   "execution_count": null,
   "metadata": {},
   "outputs": [],
   "source": []
  },
  {
   "cell_type": "code",
   "execution_count": null,
   "metadata": {},
   "outputs": [],
   "source": [
    "for i in all_cols:\n",
    "    fig, axes = plt.subplots(2,1,figsize=(8,6))\n",
    "    axes[0].boxplot(df[i],flierprops=dict(markerfacecolor='r',marker='D'),vert=False)\n",
    "    sns.distplot(df[i],bins=20)"
   ]
  },
  {
   "cell_type": "markdown",
   "metadata": {},
   "source": [
    "Conclusion from Boxplots - 'age', 'superplastic' features and 'strength' output variable have outliers on the higher side.\n",
    "\n",
    "\n",
    "* Cement is normally distributed. \n",
    "* Slag has three gausssians and rightly skewed. \n",
    "* Ash has two gaussians and rightly skewed. \n",
    "* Water has three guassians and slighly left skewed. \n",
    "* Superplastic has two gaussians and rightly skewed. \n",
    "* Coarseagg has three guassians and almost normal. \n",
    "* Fineagg has almost two guassians and looks like normal. \n",
    "* Age has multiple guassians and rightly skewed."
   ]
  },
  {
   "cell_type": "code",
   "execution_count": null,
   "metadata": {},
   "outputs": [],
   "source": [
    "\n",
    "fig, axes = plt.subplots(3,3, figsize=(15,12))\n",
    "\n",
    "for i,feat in enumerate(numeric_cols):\n",
    "    sns.scatterplot(x=feat,y='strength',data=df,ax=axes.flatten()[i])\n",
    "plt.tight_layout()"
   ]
  },
  {
   "cell_type": "markdown",
   "metadata": {},
   "source": [
    "\n",
    "\n",
    "Relationship between independent columns * \n",
    "\n",
    "* Except the cement column no other columns have found to have a visible linear relationship with the strength column. \n",
    "\n",
    "* The columns coarseagg and fineagg seems to have slight positive linear relationship.\n",
    "The presence of outliers are seen between columns slag and ash and as well as cement and ash \n",
    "* The presence of outliers are seen between columns fineagg and ash and as well as coarseagg and ash  \n",
    "* The presence of outliers are seen between columns water and ash \n",
    "The presence of outliers are seen between column superplastic and the columns cement, slag, coarseagg, and fineagg * \n",
    "* It is clearly seen that most of the columns do not have any linear relationship between them. Relationship between target and independent columns * \n",
    "There seems to be a linear relationship between cement and strength column \n",
    "* There are outliers found between cement and ash columns \n",
    "Relationship between Independent attributes/variables:-\n",
    "* Majority of the independent attributes does not have any significant relationship with other independent attributes. \"superplastic\" and \"water\" display negative/inverse relationship. \"fineagg\" and \"water\" display negative/inverse relationship. Relationship between Independent attributes and dependent/target variable \"strength\" vs \"cement\": It is linearly related to the cement. The relationship is positive. This could be good predictor \"strength\" vs \"superplastic\": Some amount of positive trend / relationship. \"strength vs other attributes: \n",
    "*None of the other attributes display any significant relationship with strength variable.\n",
    "\n"
   ]
  },
  {
   "cell_type": "code",
   "execution_count": null,
   "metadata": {},
   "outputs": [],
   "source": [
    "print(\"Age feature has only {} unique values. The pie chart of those values is shown here.\".format(df['age'].nunique()))\n",
    "plt.figure(figsize=(8,8))\n",
    "df['age'].value_counts().plot(kind='pie',autopct='%1.0f%%') # Pie chart representation of different Races of people."
   ]
  },
  {
   "cell_type": "code",
   "execution_count": null,
   "metadata": {},
   "outputs": [],
   "source": [
    "plt.figure(figsize=(14,14))\n",
    "sns.heatmap(df.corr(),vmin=-1,vmax=1,annot=True,cmap=\"Greens\") # It will show correlation matrix "
   ]
  },
  {
   "cell_type": "markdown",
   "metadata": {},
   "source": [
    "'age' and 'superplastic' and 'cement' are weakly correlated to the target variable 'strength'. "
   ]
  },
  {
   "cell_type": "markdown",
   "metadata": {},
   "source": [
    "# Linear Regression, Ridge and Lasso Algorithms with Polynomial Features"
   ]
  },
  {
   "cell_type": "code",
   "execution_count": null,
   "metadata": {},
   "outputs": [],
   "source": [
    "X = df[numeric_cols]\n",
    "y = df[['strength']]\n",
    "resultsDf = []"
   ]
  },
  {
   "cell_type": "code",
   "execution_count": null,
   "metadata": {},
   "outputs": [],
   "source": [
    "poly = PolynomialFeatures(3, include_bias=False)\n",
    "X_poly = poly.fit_transform(X)\n",
    "print(X_poly.shape)"
   ]
  },
  {
   "cell_type": "code",
   "execution_count": null,
   "metadata": {},
   "outputs": [],
   "source": [
    "X_train_poly, X_test_poly, y_train, y_test = train_test_split(X_poly, y, test_size=0.25,random_state=42)"
   ]
  },
  {
   "cell_type": "code",
   "execution_count": null,
   "metadata": {},
   "outputs": [],
   "source": [
    "ln_regression = LinearRegression()\n",
    "ln_regression.fit(X_train_poly, y_train)\n",
    "\n",
    "y_pred_reg1 = ln_regression.predict(X_test_poly) \n",
    "\n",
    "score1 = ln_regression.score(X_train_poly, y_train)\n",
    "nrmse_lr = np.sqrt(mean_squared_error(y_test, y_pred_reg1)) / np.mean(y_test)\n",
    "\n",
    "print('Linear Regression')\n",
    "print()\n",
    "print('R^2 Coefficient for Train data: %.4f'% score1)\n",
    "print('R^2 Coefficient for Test data: %.4f'% r2_score(y_test, y_pred_reg1))\n",
    "\n",
    "resultsDf = pd.DataFrame({'Method':['Linear Regression'],'PolynomialFeatures(Y/N)':['Yes'], 'R2 Score Training': score1, 'R2 Score Test': r2_score(y_test, y_pred_reg1),'NRMSE':nrmse_lr})\n",
    "resultsDf = resultsDf[['Method','PolynomialFeatures(Y/N)', 'R2 Score Training','R2 Score Test','NRMSE']]"
   ]
  },
  {
   "cell_type": "code",
   "execution_count": null,
   "metadata": {},
   "outputs": [],
   "source": [
    "ridge = Ridge(alpha=0.0100)\n",
    "ridge.fit(X_train_poly,y_train)\n",
    "y_pred_reg_Ridge = ridge.predict(X_test_poly) \n",
    "score3 = ridge.score(X_train_poly,y_train)\n",
    "nrmse_Ridge = np.sqrt(mean_squared_error(y_test, y_pred_reg_Ridge)) / np.mean(y_test)\n",
    "print('Ridge Regression')\n",
    "print()\n",
    "\n",
    "print('Ridge Regression: R^2 Coefficient for Train data: %.4f'% score3)\n",
    "print('Ridge Regression: R^2 Coefficient for Test data: %.4f'% r2_score(y_test, y_pred_reg_Ridge))\n",
    "\n",
    "tempResultsDf = pd.DataFrame({'Method':['Ridge Regression'],'PolynomialFeatures(Y/N)':['Yes'] ,'R2 Score Training': score3, 'R2 Score Test': r2_score(y_test, y_pred_reg_Ridge),'NRMSE':nrmse_Ridge})\n",
    "resultsDf = pd.concat([resultsDf, tempResultsDf])\n",
    "resultsDf = resultsDf[['Method','PolynomialFeatures(Y/N)', 'R2 Score Training','R2 Score Test','NRMSE']]"
   ]
  },
  {
   "cell_type": "code",
   "execution_count": null,
   "metadata": {},
   "outputs": [],
   "source": [
    "lasso = Lasso(alpha=0.1)\n",
    "lasso.fit(X_train_poly,y_train)\n",
    "y_pred_reg_Lasso = lasso.predict(X_test_poly)\n",
    "score4 = lasso.score(X_train_poly,y_train)\n",
    "nrmse_Lasso = np.sqrt(mean_squared_error(y_test, y_pred_reg_Lasso)) / np.mean(y_test)\n",
    "print('Lasso Regression')\n",
    "print()\n",
    "print('Lasso Regression: R^2 Coefficient for Train data: %.4f'% score4)\n",
    "print('Lasso Regression: R^2 Coefficient for Test data: %.4f'% r2_score(y_test, y_pred_reg_Lasso))\n",
    "\n",
    "\n",
    "tempResultsDf = pd.DataFrame({'Method':['Lasso Regression'],'PolynomialFeatures(Y/N)':['Yes'] ,'R2 Score Training': score4, 'R2 Score Test': r2_score(y_test, y_pred_reg_Lasso),'NRMSE':nrmse_Lasso})\n",
    "resultsDf = pd.concat([resultsDf, tempResultsDf])\n",
    "resultsDf = resultsDf[['Method','PolynomialFeatures(Y/N)', 'R2 Score Training','R2 Score Test','NRMSE']]"
   ]
  },
  {
   "cell_type": "markdown",
   "metadata": {},
   "source": [
    "# Decision Tree Regressor"
   ]
  },
  {
   "cell_type": "code",
   "execution_count": null,
   "metadata": {},
   "outputs": [],
   "source": [
    "X_train, X_test, y_train, y_test = train_test_split(X, y, test_size=0.25,random_state=42)"
   ]
  },
  {
   "cell_type": "code",
   "execution_count": null,
   "metadata": {},
   "outputs": [],
   "source": [
    "# create a regressor object \n",
    "DT_regressor = DecisionTreeRegressor()\n",
    "DT_regressor.fit(X_train, y_train) \n",
    "y_pred = DT_regressor.predict(X_test) \n",
    "score1 = DT_regressor.score(X_train, y_train)\n",
    "nrmse_DT = np.sqrt(mean_squared_error(y_test, y_pred)) / np.mean(y_test)\n",
    "print('R^2 of the prediction - Training Data: %.3f'%score1)\n",
    "print('R^2 of the prediction - Testing Data %.3f'% r2_score(y_test, y_pred))\n",
    "fig, ax = plt.subplots(figsize=(10,6))\n",
    "ax.scatter(y_test, y_pred, edgecolors=(1,1,1))\n",
    "ax.plot([y_test.min(), y_test.max()], [y_test.min(), y_test.max()], 'r', lw=4)\n",
    "ax.set_xlabel('Actual Strength')\n",
    "ax.set_ylabel('Predicted Strength')\n",
    "ax.set_title(\"Decision Tree Regressor\")\n",
    "plt.show()\n",
    "#print(DT_regressor.get_params)\n",
    "\n",
    "\n",
    "tempResultsDf = pd.DataFrame({'Method':['Decision Tree Regressor'],'PolynomialFeatures(Y/N)':['No'] ,'R2 Score Training': score1, 'R2 Score Test': r2_score(y_test, y_pred),'NRMSE':nrmse_DT})\n",
    "resultsDf = pd.concat([resultsDf, tempResultsDf])\n",
    "resultsDf = resultsDf[['Method','PolynomialFeatures(Y/N)', 'R2 Score Training','R2 Score Test','NRMSE']]"
   ]
  },
  {
   "cell_type": "code",
   "execution_count": null,
   "metadata": {},
   "outputs": [],
   "source": [
    "importances = DT_regressor.feature_importances_\n",
    "indices = np.argsort(importances)\n",
    "features = X.columns\n",
    "print(\"The importance of a feature is computed as the (normalized) total reduction of the criterion brought by that feature. It is also known as the Gini importance.\")\n",
    "plt.figure(figsize=(10,5))\n",
    "plt.title('Feature Importances - Decision Tree Regressor')\n",
    "plt.barh(range(len(indices)), importances[indices], color='k', align='center')\n",
    "plt.yticks(range(len(indices)), features[indices])\n",
    "plt.xlabel('Relative Importance')\n",
    "plt.show()"
   ]
  },
  {
   "cell_type": "markdown",
   "metadata": {},
   "source": [
    "# Gradient Boost Regressor"
   ]
  },
  {
   "cell_type": "code",
   "execution_count": null,
   "metadata": {},
   "outputs": [],
   "source": [
    "#params_GBR = {'loss': 'ls','learning_rate': 0.03,'n_estimators': 200,'subsample': 0.8,'max_depth': 64,\n",
    "#              'max_features': 0.3,'min_impurity_decrease': 1e-10,'min_samples_leaf': 5}\n",
    "print('Boosting Regressor Model')\n",
    "\n",
    "reg_gbr = GradientBoostingRegressor(random_state=98)\n",
    "reg_gbr.fit(X_train, y_train)\n",
    "y_pred_GBR = reg_gbr.predict(X_test)\n",
    "nrmse_GBR = np.sqrt(mean_squared_error(y_test, y_pred_GBR)) / np.mean(y_test)\n",
    "score5 = reg_gbr.score(X_train, y_train)\n",
    "print(\"R^2 score on training data: {}\".format(reg_gbr.score(X_train,y_train)))\n",
    "print(\"R^2 score on test data: {}\".format(reg_gbr.score(X_test,y_test)))\n",
    "print(\"Normalised mean sqared error: {}\".format(nrmse_GBR))\n",
    "\n",
    "plt.figure(figsize=(8,8))\n",
    "plt.plot(np.linspace(0,100,10),np.linspace(0,100,10),'-k')\n",
    "plt.scatter(y_test, y_pred_GBR, s=10)\n",
    "plt.xlabel('Actual Strength');plt.ylabel('Predicted Strength'),plt.title('(Predicted vs Test (Gradient Boost Regressor))')\n",
    "plt.grid();plt.xlim(0,80);plt.ylim(0,80)\n",
    "#print(reg_gbr.get_params())\n",
    "\n",
    "\n",
    "\n",
    "tempResultsDf = pd.DataFrame({'Method':['Gradient Boost Regressor'],'PolynomialFeatures(Y/N)':['No'],'R2 Score Training': score5, 'R2 Score Test': r2_score(y_test, y_pred_GBR),'NRMSE':nrmse_GBR})\n",
    "resultsDf = pd.concat([resultsDf, tempResultsDf])\n",
    "resultsDf = resultsDf[['Method','PolynomialFeatures(Y/N)', 'R2 Score Training','R2 Score Test','NRMSE']]"
   ]
  },
  {
   "cell_type": "code",
   "execution_count": null,
   "metadata": {},
   "outputs": [],
   "source": [
    "print('Bagging Regressor Model')\n",
    "reg_bgr = BaggingRegressor(random_state=98)\n",
    "reg_bgr.fit(X_train, y_train)\n",
    "y_pred_BGR = reg_bgr.predict(X_test)\n",
    "score6 = reg_bgr.score(X_train, y_train)\n",
    "nrmse_BGR = np.sqrt(mean_squared_error(y_test, y_pred_BGR)) / np.mean(y_test)\n",
    "print(\"R^2 score on training data: {}\".format(reg_bgr.score(X_train,y_train)))\n",
    "print(\"R^2 score on test data: {}\".format(reg_bgr.score(X_test,y_test)))\n",
    "print(\"Normalised mean squared error: {}\".format(nrmse_BGR))\n",
    "\n",
    "plt.figure(figsize=(8,8))\n",
    "plt.plot(np.linspace(0,200,10),np.linspace(0,200,10),'-k')\n",
    "plt.scatter(y_test, y_pred_BGR, s=10)\n",
    "plt.xlabel('Actual Strength');plt.ylabel('Predicted Strength'),plt.title('(Predicted vs Test (Bagging Regressor))')\n",
    "plt.grid();plt.xlim(0,80);plt.ylim(0,80)\n",
    "#print(reg_bgr.get_params())\n",
    "\n",
    "tempResultsDf = pd.DataFrame({'Method':['Bagging Regressor'],'PolynomialFeatures(Y/N)':['No'],'R2 Score Training': score6, 'R2 Score Test': r2_score(y_test, y_pred_BGR),'NRMSE':nrmse_BGR})\n",
    "resultsDf = pd.concat([resultsDf, tempResultsDf])\n",
    "resultsDf = resultsDf[['Method','PolynomialFeatures(Y/N)', 'R2 Score Training','R2 Score Test','NRMSE']]"
   ]
  },
  {
   "cell_type": "code",
   "execution_count": null,
   "metadata": {},
   "outputs": [],
   "source": [
    "resultsDf.reset_index(inplace=True)\n",
    "resultsDf.drop(['index'], axis=1,inplace=True)\n",
    "resultsDf = resultsDf.round(3)\n",
    "resultsDf"
   ]
  },
  {
   "cell_type": "markdown",
   "metadata": {},
   "source": [
    "Performance metrics for 3 linear regression methods and 3 Decision tree based regression methods are reported in this table. NRMSE - Normalised root mean square error (RMSE normalised by mean of Y_Test). Polynomial Features are used for Linar regresison, Ridge and Lasso regression only. Raw features are input in the decision tree based regressors."
   ]
  },
  {
   "cell_type": "markdown",
   "metadata": {},
   "source": [
    "# Cross-Validation"
   ]
  },
  {
   "cell_type": "code",
   "execution_count": null,
   "metadata": {},
   "outputs": [],
   "source": [
    "from sklearn.model_selection import KFold\n",
    "from sklearn.model_selection import cross_val_score\n",
    "resultsDf_CV = []\n",
    "\n",
    "num_folds = 20\n",
    "seed = 7\n",
    "print(\"Cross-validation for Linear Regression\")\n",
    "kfold = KFold(n_splits = num_folds,random_state=7)\n",
    "ln_regression = LinearRegression()\n",
    "res_CV_ln_regression = cross_val_score(ln_regression,X,y,cv=kfold)\n",
    "\n",
    "R2_Score_LR_CV = res_CV_ln_regression.mean()\n",
    "stddev_LR_CV = res_CV_ln_regression.std()\n",
    "\n",
    "resultsDf_CV = pd.DataFrame({'Method':['Linear Regression'],'R2 Score after CV': R2_Score_LR_CV.round(3), 'Standard Dev': stddev_LR_CV.round(3)})\n",
    "resultsDf_CV = resultsDf_CV[['Method','R2 Score after CV', 'Standard Dev']]"
   ]
  },
  {
   "cell_type": "code",
   "execution_count": null,
   "metadata": {},
   "outputs": [],
   "source": [
    "print(\"Cross-validation for Decision Tree Regressor\")\n",
    "kfold = KFold(n_splits = num_folds,random_state=7)\n",
    "\n",
    "DT_regressor = DecisionTreeRegressor()\n",
    "\n",
    "res_CV_DT = cross_val_score(DT_regressor,X,y,cv=kfold)\n",
    "\n",
    "\n",
    "R2_Score_DT = res_CV_DT.mean()\n",
    "stddev_DT = res_CV_DT.std()\n",
    "\n",
    "tempResultsDf_CV = pd.DataFrame({'Method':['Decision Tree Regressor'],'R2 Score after CV': R2_Score_DT.round(3), 'Standard Dev': stddev_DT.round(3)})\n",
    "resultsDf_CV = pd.concat([resultsDf_CV, tempResultsDf_CV])\n",
    "resultsDf_CV = resultsDf_CV[['Method','R2 Score after CV', 'Standard Dev']]\n"
   ]
  },
  {
   "cell_type": "code",
   "execution_count": null,
   "metadata": {},
   "outputs": [],
   "source": [
    "print(\"Cross-validation for Bagging Regressor\")\n",
    "kfold = KFold(n_splits = num_folds,random_state=7)\n",
    "\n",
    "reg_bgr = BaggingRegressor(random_state=98)\n",
    "\n",
    "res_CV_bgr = cross_val_score(reg_bgr,X,y,cv=kfold)\n",
    "\n",
    "\n",
    "R2_Score_bgr = res_CV_bgr.mean()\n",
    "stddev_bgr = res_CV_bgr.std()\n",
    "\n",
    "tempResultsDf_CV = pd.DataFrame({'Method':['Bagging Regressor'],'R2 Score after CV': R2_Score_bgr.round(3), 'Standard Dev': stddev_bgr.round(3)})\n",
    "resultsDf_CV = pd.concat([resultsDf_CV, tempResultsDf_CV])\n",
    "resultsDf_CV = resultsDf_CV[['Method','R2 Score after CV', 'Standard Dev']]\n"
   ]
  },
  {
   "cell_type": "code",
   "execution_count": null,
   "metadata": {},
   "outputs": [],
   "source": [
    "print(\"Cross-validation for Gradient Boost Regressor\")\n",
    "kfold = KFold(n_splits = num_folds,random_state=7)\n",
    "\n",
    "reg_gbr = GradientBoostingRegressor(random_state=98)\n",
    "\n",
    "res_CV_gbr = cross_val_score(reg_gbr,X,y,cv=kfold)\n",
    "\n",
    "\n",
    "R2_Score_gbr = res_CV_gbr.mean()\n",
    "stddev_gbr = res_CV_gbr.std()\n",
    "\n",
    "\n",
    "tempResultsDf_CV = pd.DataFrame({'Method':['Gradient Boost Regressor'],'R2 Score after CV': R2_Score_gbr.round(3), 'Standard Dev': stddev_gbr.round(3)})\n",
    "resultsDf_CV = pd.concat([resultsDf_CV, tempResultsDf_CV])\n",
    "resultsDf_CV = resultsDf_CV[['Method','R2 Score after CV', 'Standard Dev']]\n"
   ]
  },
  {
   "cell_type": "code",
   "execution_count": null,
   "metadata": {},
   "outputs": [],
   "source": [
    "resultsDf_CV.reset_index(inplace=True)\n",
    "resultsDf_CV.drop(['index'], axis=1,inplace=True)\n",
    "print(\"This table is obtained by Cross-validation for Bagging Regressor\")\n",
    "resultsDf_CV"
   ]
  },
  {
   "cell_type": "markdown",
   "metadata": {},
   "source": [
    "Cross-Validation  - The R2 score is the mean of the array containing cross validation scores. The R2 score and standard deviation are derived from the cross validation score array and reported. The score deteriorates with increasing \"num_folds\" value."
   ]
  },
  {
   "cell_type": "code",
   "execution_count": null,
   "metadata": {},
   "outputs": [],
   "source": []
  },
  {
   "cell_type": "markdown",
   "metadata": {},
   "source": [
    "# Using  RandomizedSearchCV() for finding optimum parameteres"
   ]
  },
  {
   "cell_type": "code",
   "execution_count": null,
   "metadata": {},
   "outputs": [],
   "source": [
    "print(\"Find out the best parameters for the Gradient Boost Regressor.\")\n",
    "GBR_dict = {'learning_rate': np.arange(0.1,0.3,0.05),\n",
    "          'n_estimators': np.arange(10,300,50),\n",
    "          'subsample': [0.5,1],\n",
    "          'max_depth': np.arange(2,10,2),\n",
    "          'max_features': np.arange(0.25,1,0.25),\n",
    "          'min_impurity_decrease': [0,0.1,1e-10,1e-20],\n",
    "          'min_samples_leaf': np.arange(5,25,5)\n",
    "             }\n",
    "tic = time.time()\n",
    "reg_gbr = GradientBoostingRegressor()\n",
    "gbr_RandomCV = RandomizedSearchCV(reg_gbr, param_distributions=GBR_dict,cv=15,n_iter=150,n_jobs=2)\n",
    "gbr_RandomCV.fit(X, y)\n",
    "toc = time.time()\n",
    "\n",
    "print('Best Test Score:',gbr_RandomCV.best_score_.round(2))\n",
    "print(\"Time taken in seconds:\",(toc-tic))\n",
    "\n",
    "\n",
    "best_params_GBR = gbr_RandomCV.best_params_\n",
    "print('Best parameters:',best_params_GBR)\n",
    "\n",
    "\n",
    "print('Boosting Regressor Model with Best parameters obtained from RandomizedSearchCV')\n",
    "print()\n",
    "print()\n",
    "reg_gbr1 = GradientBoostingRegressor(random_state=98,**best_params_GBR)\n",
    "reg_gbr1.fit(X_train, y_train)\n",
    "y_pred_GBR = reg_gbr1.predict(X_test)\n",
    "nrmse_GBR1 = np.sqrt(mean_squared_error(y_test, y_pred_GBR)) / np.mean(y_test)\n",
    "score_GBR_CV = reg_gbr1.score(X_train, y_train)\n",
    "print(\"R^2 score on training data: {}\".format(reg_gbr1.score(X_train,y_train)))\n",
    "print(\"R^2 score on test data: {}\".format(reg_gbr1.score(X_test,y_test)))\n",
    "print(\"Normalised mean sqared error: {}\".format(nrmse_GBR1))\n",
    "\n",
    "\n",
    "tempResultsDf = pd.DataFrame({'Method':['Gradient Boost Regressor (RandomizedSearchCV)'],'PolynomialFeatures(Y/N)':['No'],'R2 Score Training': score_GBR_CV, 'R2 Score Test': r2_score(y_test, y_pred_BGR),'NRMSE':nrmse_GBR1})\n",
    "resultsDf = pd.concat([resultsDf, tempResultsDf])\n",
    "resultsDf = resultsDf[['Method','PolynomialFeatures(Y/N)', 'R2 Score Training','R2 Score Test','NRMSE']]\n"
   ]
  },
  {
   "cell_type": "code",
   "execution_count": null,
   "metadata": {},
   "outputs": [],
   "source": [
    "print(\"Find out the best parameters for the Decision Tree Regressor Regressor.\")\n",
    "\n",
    "from scipy.stats import randint as sp_randint\n",
    "\n",
    "DT_dict = {\"max_depth\": np.arange(100,300,1),\n",
    "              \"min_samples_split\": sp_randint(1,10),\n",
    "              \"min_samples_leaf\": sp_randint(1,10),\n",
    "              'criterion':['mse','mae'],\n",
    "             'min_weight_fraction_leaf':[0.001,0.0015,0.0016,0.002,0.0021,0.01],           \n",
    "            }\n",
    "tic = time.time()\n",
    "DT_regressor = DecisionTreeRegressor()\n",
    "DT_RandomCV = RandomizedSearchCV(DT_regressor, param_distributions=DT_dict,cv=10,n_iter=50,n_jobs=2)\n",
    "DT_RandomCV.fit(X, y)\n",
    "toc = time.time()\n",
    "print('Best Test Score:',DT_RandomCV.best_score_.round(2))\n",
    "print(\"Time taken in seconds:\",(toc-tic))\n",
    "DT_params = DT_RandomCV.best_params_\n",
    "print(\"Best Parameters are:\\n\",DT_params)\n",
    "print()\n",
    "print()\n",
    "\n",
    "DT_regressor1 = DecisionTreeRegressor(**DT_params)\n",
    "# fit the regressor with X and Y data \n",
    "DT_regressor1.fit(X_train, y_train) \n",
    "y_pred = DT_regressor1.predict(X_test) \n",
    "score_DT_CV = DT_regressor1.score(X_train, y_train)\n",
    "nrmse_DT = np.sqrt(mean_squared_error(y_test, y_pred)) / np.mean(y_test)\n",
    "# Explained variance score: 1 is perfect prediction\n",
    "print('R^2 of the prediction - Training Data: %.3f'%score1)\n",
    "# Explained variance score: 1 is perfect prediction\n",
    "print('R^2 of the prediction - Testing Data %.3f'% r2_score(y_test, y_pred))\n",
    "print()\n",
    "tempResultsDf = pd.DataFrame({'Method':['Decision Tree Regressor (RandomizedSearchCV)'],'PolynomialFeatures(Y/N)':['No'],'R2 Score Training': score_DT_CV, 'R2 Score Test': r2_score(y_test, y_pred),'NRMSE':nrmse_DT})\n",
    "resultsDf = pd.concat([resultsDf, tempResultsDf])\n",
    "resultsDf = resultsDf[['Method','PolynomialFeatures(Y/N)', 'R2 Score Training','R2 Score Test','NRMSE']]"
   ]
  },
  {
   "cell_type": "code",
   "execution_count": null,
   "metadata": {},
   "outputs": [],
   "source": [
    "resultsDf.reset_index(inplace=True)\n",
    "resultsDf.drop(['index'], axis=1,inplace=True)\n",
    "resultsDf = resultsDf.round(3)\n",
    "resultsDf"
   ]
  },
  {
   "cell_type": "markdown",
   "metadata": {},
   "source": [
    "The best hyper-parameters are obtained using RandomizedSearchCV. These parameters are input in the alogorithms. \n",
    "The R2 score and NRMSE improve (albeit slightly) due to usage of these \"best parameters\"."
   ]
  }
 ],
 "metadata": {
  "kernelspec": {
   "display_name": "Python 3",
   "language": "python",
   "name": "python3"
  },
  "language_info": {
   "codemirror_mode": {
    "name": "ipython",
    "version": 3
   },
   "file_extension": ".py",
   "mimetype": "text/x-python",
   "name": "python",
   "nbconvert_exporter": "python",
   "pygments_lexer": "ipython3",
   "version": "3.8.3"
  }
 },
 "nbformat": 4,
 "nbformat_minor": 2
}
