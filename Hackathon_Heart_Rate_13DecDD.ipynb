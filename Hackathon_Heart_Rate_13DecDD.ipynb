{
 "cells": [
  {
   "cell_type": "markdown",
   "metadata": {},
   "source": [
    "## Project Heart Rate Prediction - Solution by LONDONX (Devendra Damle and Shivanandan Pingle)\n",
    "\n",
    "Objective : To predict the heart rate using the data available \n",
    "\n",
    "Apply regression,feature engineering and model tuning to obtain minimum MAE.\n",
    "\n",
    "\n",
    "    \n",
    "The data for this project is available in file https://archive.ics.uci.edu/ml/machine-learning-databases/concrete/compressive/. The same has been shared along with the course content.\n"
   ]
  },
  {
   "cell_type": "code",
   "execution_count": 1,
   "metadata": {
    "ExecuteTime": {
     "end_time": "2020-10-18T15:34:40.881707Z",
     "start_time": "2020-10-18T15:34:39.315825Z"
    }
   },
   "outputs": [],
   "source": [
    "# Import important libraries\n",
    "import warnings\n",
    "warnings.filterwarnings('ignore')\n",
    "import numpy as np\n",
    "import pandas as pd\n",
    "import matplotlib.pyplot as plt\n",
    "import seaborn as sns\n",
    "%matplotlib inline\n",
    "from scipy.stats import chi2_contingency\n",
    "from sklearn.feature_selection import f_classif\n",
    "from sklearn.model_selection import train_test_split\n",
    "from sklearn.preprocessing import PolynomialFeatures\n",
    "from sklearn.model_selection import train_test_split\n",
    "from sklearn.metrics import mean_squared_error, r2_score\n",
    "from sklearn.tree import DecisionTreeRegressor  \n",
    "from sklearn.linear_model import Ridge\n",
    "from sklearn.linear_model import Lasso\n",
    "from sklearn.linear_model import LinearRegression\n",
    "from sklearn.ensemble import GradientBoostingRegressor\n",
    "import time\n",
    "from sklearn.model_selection import GridSearchCV, RandomizedSearchCV\n",
    "from sklearn.tree import DecisionTreeRegressor \n",
    "from sklearn.ensemble import BaggingRegressor\n",
    "from scipy.stats import randint as sp_randint\n"
   ]
  },
  {
   "cell_type": "code",
   "execution_count": 2,
   "metadata": {},
   "outputs": [],
   "source": [
    "#Functions to be used later\n",
    "\n",
    "def sanity_check_1(df):\n",
    "    dtype = df.dtypes\n",
    "    null = df.isnull().sum()\n",
    "    unique = df.nunique()\n",
    "\n",
    "    result_df = pd.concat([dtype, null, unique], axis=1)\n",
    "    result_df.columns = ['dtype', 'null', 'unique']\n",
    "    result_df['null_%'] = result_df['null'].values / len(df)\n",
    "    print(df.info())\n",
    "    result_df.sort_values(['unique'],inplace=True)\n",
    "    \n",
    "    return result_df\n",
    "\n",
    "\n",
    "def univariate_numerical(df):\n",
    "    univariate_df = pd.concat([df.describe(percentiles=[i/10 for i in range(1, 10)]).T, df.skew()], axis=1)\n",
    "    univariate_df.rename(columns={0:\"skew\"}, inplace=True)\n",
    "    return univariate_df\n",
    "\n",
    "\n",
    "def chi_square(data, features, target):\n",
    "    \n",
    "    output = dict()\n",
    "    \n",
    "    for feature in features:\n",
    "\n",
    "        data_crosstab = pd.crosstab(data[feature],  \n",
    "                                    data[target], \n",
    "                                        margins = False)\n",
    "\n",
    "        stat, p, dof, expected = chi2_contingency(data_crosstab)\n",
    "        \n",
    "        output[feature] = [stat, p]\n",
    "    \n",
    "    return output\n",
    "\n",
    "def f_values(data, features, target):\n",
    "    X = data[features].values\n",
    "    y = data[target].values\n",
    "\n",
    "    f_values, p_values = f_classif(X, y)\n",
    "    result = {feature:[f_value, p_value] for feature, f_value, p_value in zip(features, f_values, p_values)}\n",
    "    return result"
   ]
  },
  {
   "cell_type": "code",
   "execution_count": 3,
   "metadata": {
    "ExecuteTime": {
     "end_time": "2020-10-18T15:34:56.904461Z",
     "start_time": "2020-10-18T15:34:56.900130Z"
    }
   },
   "outputs": [
    {
     "name": "stdout",
     "output_type": "stream",
     "text": [
      "<class 'pandas.core.frame.DataFrame'>\n",
      "RangeIndex: 369289 entries, 0 to 369288\n",
      "Data columns (total 12 columns):\n",
      " #   Column   Non-Null Count   Dtype  \n",
      "---  ------   --------------   -----  \n",
      " 0   uuid     369289 non-null  object \n",
      " 1   VLF      369289 non-null  float64\n",
      " 2   VLF_PCT  369289 non-null  float64\n",
      " 3   LF       369289 non-null  float64\n",
      " 4   LF_PCT   369289 non-null  float64\n",
      " 5   LF_NU    369289 non-null  float64\n",
      " 6   HF       369289 non-null  float64\n",
      " 7   HF_PCT   369289 non-null  float64\n",
      " 8   HF_NU    369289 non-null  float64\n",
      " 9   TP       369289 non-null  float64\n",
      " 10  LF_HF    369289 non-null  float64\n",
      " 11  HF_LF    369289 non-null  float64\n",
      "dtypes: float64(11), object(1)\n",
      "memory usage: 33.8+ MB\n",
      "None\n",
      "<class 'pandas.core.frame.DataFrame'>\n",
      "RangeIndex: 369289 entries, 0 to 369288\n",
      "Data columns (total 7 columns):\n",
      " #   Column     Non-Null Count   Dtype  \n",
      "---  ------     --------------   -----  \n",
      " 0   uuid       369289 non-null  object \n",
      " 1   SD1        369289 non-null  float64\n",
      " 2   SD2        369289 non-null  float64\n",
      " 3   sampen     369289 non-null  float64\n",
      " 4   higuci     369289 non-null  float64\n",
      " 5   datasetId  369289 non-null  int64  \n",
      " 6   condition  369289 non-null  object \n",
      "dtypes: float64(4), int64(1), object(2)\n",
      "memory usage: 19.7+ MB\n",
      "None\n",
      "<class 'pandas.core.frame.DataFrame'>\n",
      "RangeIndex: 369289 entries, 0 to 369288\n",
      "Data columns (total 20 columns):\n",
      " #   Column             Non-Null Count   Dtype  \n",
      "---  ------             --------------   -----  \n",
      " 0   MEAN_RR            369289 non-null  float64\n",
      " 1   MEDIAN_RR          369289 non-null  float64\n",
      " 2   SDRR               369289 non-null  float64\n",
      " 3   RMSSD              369289 non-null  float64\n",
      " 4   SDSD               369289 non-null  float64\n",
      " 5   SDRR_RMSSD         369289 non-null  float64\n",
      " 6   HR                 369289 non-null  float64\n",
      " 7   pNN25              369289 non-null  float64\n",
      " 8   pNN50              369289 non-null  float64\n",
      " 9   KURT               369289 non-null  float64\n",
      " 10  SKEW               369289 non-null  float64\n",
      " 11  MEAN_REL_RR        369289 non-null  float64\n",
      " 12  MEDIAN_REL_RR      369289 non-null  float64\n",
      " 13  SDRR_REL_RR        369289 non-null  float64\n",
      " 14  RMSSD_REL_RR       369289 non-null  float64\n",
      " 15  SDSD_REL_RR        369289 non-null  float64\n",
      " 16  SDRR_RMSSD_REL_RR  369289 non-null  float64\n",
      " 17  KURT_REL_RR        369289 non-null  float64\n",
      " 18  SKEW_REL_RR        369289 non-null  float64\n",
      " 19  uuid               369289 non-null  object \n",
      "dtypes: float64(19), object(1)\n",
      "memory usage: 56.3+ MB\n",
      "None\n",
      "Frequence domain features            dtype  null  unique  null_%\n",
      "uuid      object     0  369289     0.0\n",
      "VLF      float64     0  369289     0.0\n",
      "VLF_PCT  float64     0  369289     0.0\n",
      "LF       float64     0  369289     0.0\n",
      "LF_PCT   float64     0  369289     0.0\n",
      "LF_NU    float64     0  369289     0.0\n",
      "HF       float64     0  369289     0.0\n",
      "HF_PCT   float64     0  369289     0.0\n",
      "HF_NU    float64     0  369289     0.0\n",
      "TP       float64     0  369289     0.0\n",
      "LF_HF    float64     0  369289     0.0\n",
      "HF_LF    float64     0  369289     0.0\n",
      "Heart rate non linear              dtype  null  unique  null_%\n",
      "datasetId    int64     0       1     0.0\n",
      "condition   object     0       3     0.0\n",
      "sampen     float64     0   82511     0.0\n",
      "uuid        object     0  369289     0.0\n",
      "SD1        float64     0  369289     0.0\n",
      "SD2        float64     0  369289     0.0\n",
      "higuci     float64     0  369289     0.0\n",
      "Time domain features                      dtype  null  unique  null_%\n",
      "pNN50              float64     0      83     0.0\n",
      "pNN25              float64     0     592     0.0\n",
      "MEDIAN_REL_RR      float64     0   25041     0.0\n",
      "MEDIAN_RR          float64     0  106329     0.0\n",
      "MEAN_RR            float64     0  369289     0.0\n",
      "KURT_REL_RR        float64     0  369289     0.0\n",
      "SDRR_RMSSD_REL_RR  float64     0  369289     0.0\n",
      "SDSD_REL_RR        float64     0  369289     0.0\n",
      "RMSSD_REL_RR       float64     0  369289     0.0\n",
      "SDRR_REL_RR        float64     0  369289     0.0\n",
      "MEAN_REL_RR        float64     0  369289     0.0\n",
      "KURT               float64     0  369289     0.0\n",
      "SKEW_REL_RR        float64     0  369289     0.0\n",
      "HR                 float64     0  369289     0.0\n",
      "SDRR_RMSSD         float64     0  369289     0.0\n",
      "SDSD               float64     0  369289     0.0\n",
      "RMSSD              float64     0  369289     0.0\n",
      "SDRR               float64     0  369289     0.0\n",
      "SKEW               float64     0  369289     0.0\n",
      "uuid                object     0  369289     0.0\n"
     ]
    }
   ],
   "source": [
    "#df = pd.read_csv(\"Dummy_Data_-_Train.csv\")\n",
    "df_freq = pd.read_csv(\"frequency_domain_features_train.csv\")\n",
    "df_heart = pd.read_csv(\"heart_rate_non_linear_features_train.csv\")\n",
    "df_time = pd.read_csv(\"time_domain_features_train.csv\")\n",
    "\n",
    "s1 = sanity_check_1(df_freq)\n",
    "s2 = sanity_check_1(df_heart)\n",
    "s3 = sanity_check_1(df_time)\n",
    "print(\"Frequence domain features\",s1)\n",
    "print(\"Heart rate non linear\",s2)\n",
    "print(\"Time domain features\",s3)"
   ]
  },
  {
   "cell_type": "code",
   "execution_count": 4,
   "metadata": {},
   "outputs": [
    {
     "name": "stdout",
     "output_type": "stream",
     "text": [
      "df_freq (369289, 12)\n",
      "df_heart (369289, 7)\n",
      "df_time (369289, 20)\n"
     ]
    }
   ],
   "source": [
    "print(\"df_freq\",df_freq.shape)\n",
    "print(\"df_heart\",df_heart.shape)\n",
    "print(\"df_time\",df_time.shape)"
   ]
  },
  {
   "cell_type": "code",
   "execution_count": 5,
   "metadata": {},
   "outputs": [
    {
     "name": "stdout",
     "output_type": "stream",
     "text": [
      "(369289, 18)\n",
      "(369289, 37)\n"
     ]
    }
   ],
   "source": [
    "df_merged1 = pd.merge(df_freq,df_heart,how='inner',on='uuid')\n",
    "df_merged = pd.merge(df_merged1,df_time,how='inner',on='uuid')\n",
    "print(df_merged1.shape)\n",
    "print(df_merged.shape)"
   ]
  },
  {
   "cell_type": "code",
   "execution_count": 6,
   "metadata": {},
   "outputs": [
    {
     "name": "stdout",
     "output_type": "stream",
     "text": [
      "<class 'pandas.core.frame.DataFrame'>\n",
      "Int64Index: 369289 entries, 0 to 369288\n",
      "Data columns (total 37 columns):\n",
      " #   Column             Non-Null Count   Dtype  \n",
      "---  ------             --------------   -----  \n",
      " 0   uuid               369289 non-null  object \n",
      " 1   VLF                369289 non-null  float64\n",
      " 2   VLF_PCT            369289 non-null  float64\n",
      " 3   LF                 369289 non-null  float64\n",
      " 4   LF_PCT             369289 non-null  float64\n",
      " 5   LF_NU              369289 non-null  float64\n",
      " 6   HF                 369289 non-null  float64\n",
      " 7   HF_PCT             369289 non-null  float64\n",
      " 8   HF_NU              369289 non-null  float64\n",
      " 9   TP                 369289 non-null  float64\n",
      " 10  LF_HF              369289 non-null  float64\n",
      " 11  HF_LF              369289 non-null  float64\n",
      " 12  SD1                369289 non-null  float64\n",
      " 13  SD2                369289 non-null  float64\n",
      " 14  sampen             369289 non-null  float64\n",
      " 15  higuci             369289 non-null  float64\n",
      " 16  datasetId          369289 non-null  int64  \n",
      " 17  condition          369289 non-null  object \n",
      " 18  MEAN_RR            369289 non-null  float64\n",
      " 19  MEDIAN_RR          369289 non-null  float64\n",
      " 20  SDRR               369289 non-null  float64\n",
      " 21  RMSSD              369289 non-null  float64\n",
      " 22  SDSD               369289 non-null  float64\n",
      " 23  SDRR_RMSSD         369289 non-null  float64\n",
      " 24  HR                 369289 non-null  float64\n",
      " 25  pNN25              369289 non-null  float64\n",
      " 26  pNN50              369289 non-null  float64\n",
      " 27  KURT               369289 non-null  float64\n",
      " 28  SKEW               369289 non-null  float64\n",
      " 29  MEAN_REL_RR        369289 non-null  float64\n",
      " 30  MEDIAN_REL_RR      369289 non-null  float64\n",
      " 31  SDRR_REL_RR        369289 non-null  float64\n",
      " 32  RMSSD_REL_RR       369289 non-null  float64\n",
      " 33  SDSD_REL_RR        369289 non-null  float64\n",
      " 34  SDRR_RMSSD_REL_RR  369289 non-null  float64\n",
      " 35  KURT_REL_RR        369289 non-null  float64\n",
      " 36  SKEW_REL_RR        369289 non-null  float64\n",
      "dtypes: float64(34), int64(1), object(2)\n",
      "memory usage: 107.1+ MB\n"
     ]
    }
   ],
   "source": [
    "df_merged.info()"
   ]
  },
  {
   "cell_type": "code",
   "execution_count": 7,
   "metadata": {},
   "outputs": [
    {
     "data": {
      "text/plain": [
       "uuid                 369289\n",
       "VLF                  369289\n",
       "VLF_PCT              369289\n",
       "LF                   369289\n",
       "LF_PCT               369289\n",
       "LF_NU                369289\n",
       "HF                   369289\n",
       "HF_PCT               369289\n",
       "HF_NU                369289\n",
       "TP                   369289\n",
       "LF_HF                369289\n",
       "HF_LF                369289\n",
       "SD1                  369289\n",
       "SD2                  369289\n",
       "sampen                82511\n",
       "higuci               369289\n",
       "datasetId                 1\n",
       "condition                 3\n",
       "MEAN_RR              369289\n",
       "MEDIAN_RR            106329\n",
       "SDRR                 369289\n",
       "RMSSD                369289\n",
       "SDSD                 369289\n",
       "SDRR_RMSSD           369289\n",
       "HR                   369289\n",
       "pNN25                   592\n",
       "pNN50                    83\n",
       "KURT                 369289\n",
       "SKEW                 369289\n",
       "MEAN_REL_RR          369289\n",
       "MEDIAN_REL_RR         25041\n",
       "SDRR_REL_RR          369289\n",
       "RMSSD_REL_RR         369289\n",
       "SDSD_REL_RR          369289\n",
       "SDRR_RMSSD_REL_RR    369289\n",
       "KURT_REL_RR          369289\n",
       "SKEW_REL_RR          369289\n",
       "dtype: int64"
      ]
     },
     "execution_count": 7,
     "metadata": {},
     "output_type": "execute_result"
    }
   ],
   "source": [
    "df_merged.nunique()"
   ]
  },
  {
   "cell_type": "code",
   "execution_count": 8,
   "metadata": {},
   "outputs": [
    {
     "data": {
      "text/plain": [
       "uuid                 0\n",
       "VLF                  0\n",
       "VLF_PCT              0\n",
       "LF                   0\n",
       "LF_PCT               0\n",
       "LF_NU                0\n",
       "HF                   0\n",
       "HF_PCT               0\n",
       "HF_NU                0\n",
       "TP                   0\n",
       "LF_HF                0\n",
       "HF_LF                0\n",
       "SD1                  0\n",
       "SD2                  0\n",
       "sampen               0\n",
       "higuci               0\n",
       "datasetId            0\n",
       "condition            0\n",
       "MEAN_RR              0\n",
       "MEDIAN_RR            0\n",
       "SDRR                 0\n",
       "RMSSD                0\n",
       "SDSD                 0\n",
       "SDRR_RMSSD           0\n",
       "HR                   0\n",
       "pNN25                0\n",
       "pNN50                0\n",
       "KURT                 0\n",
       "SKEW                 0\n",
       "MEAN_REL_RR          0\n",
       "MEDIAN_REL_RR        0\n",
       "SDRR_REL_RR          0\n",
       "RMSSD_REL_RR         0\n",
       "SDSD_REL_RR          0\n",
       "SDRR_RMSSD_REL_RR    0\n",
       "KURT_REL_RR          0\n",
       "SKEW_REL_RR          0\n",
       "dtype: int64"
      ]
     },
     "execution_count": 8,
     "metadata": {},
     "output_type": "execute_result"
    }
   ],
   "source": [
    "df_merged.isnull().sum()"
   ]
  },
  {
   "cell_type": "code",
   "execution_count": 9,
   "metadata": {},
   "outputs": [
    {
     "data": {
      "text/html": [
       "<div>\n",
       "<style scoped>\n",
       "    .dataframe tbody tr th:only-of-type {\n",
       "        vertical-align: middle;\n",
       "    }\n",
       "\n",
       "    .dataframe tbody tr th {\n",
       "        vertical-align: top;\n",
       "    }\n",
       "\n",
       "    .dataframe thead th {\n",
       "        text-align: right;\n",
       "    }\n",
       "</style>\n",
       "<table border=\"1\" class=\"dataframe\">\n",
       "  <thead>\n",
       "    <tr style=\"text-align: right;\">\n",
       "      <th></th>\n",
       "      <th>datasetId</th>\n",
       "      <th>HR</th>\n",
       "    </tr>\n",
       "  </thead>\n",
       "  <tbody>\n",
       "    <tr>\n",
       "      <th>0</th>\n",
       "      <td>2</td>\n",
       "      <td>69.499952</td>\n",
       "    </tr>\n",
       "    <tr>\n",
       "      <th>1</th>\n",
       "      <td>2</td>\n",
       "      <td>64.363150</td>\n",
       "    </tr>\n",
       "    <tr>\n",
       "      <th>2</th>\n",
       "      <td>2</td>\n",
       "      <td>67.450066</td>\n",
       "    </tr>\n",
       "    <tr>\n",
       "      <th>3</th>\n",
       "      <td>2</td>\n",
       "      <td>68.809562</td>\n",
       "    </tr>\n",
       "    <tr>\n",
       "      <th>4</th>\n",
       "      <td>2</td>\n",
       "      <td>74.565728</td>\n",
       "    </tr>\n",
       "  </tbody>\n",
       "</table>\n",
       "</div>"
      ],
      "text/plain": [
       "   datasetId         HR\n",
       "0          2  69.499952\n",
       "1          2  64.363150\n",
       "2          2  67.450066\n",
       "3          2  68.809562\n",
       "4          2  74.565728"
      ]
     },
     "execution_count": 9,
     "metadata": {},
     "output_type": "execute_result"
    }
   ],
   "source": [
    "df_merged[['datasetId','HR']].head()"
   ]
  },
  {
   "cell_type": "code",
   "execution_count": 10,
   "metadata": {},
   "outputs": [
    {
     "data": {
      "text/plain": [
       "pandas.core.series.Series"
      ]
     },
     "execution_count": 10,
     "metadata": {},
     "output_type": "execute_result"
    }
   ],
   "source": [
    "type(df_merged['datasetId'])"
   ]
  },
  {
   "cell_type": "code",
   "execution_count": 11,
   "metadata": {},
   "outputs": [
    {
     "data": {
      "text/plain": [
       "pandas.core.series.Series"
      ]
     },
     "execution_count": 11,
     "metadata": {},
     "output_type": "execute_result"
    }
   ],
   "source": [
    "type(df_merged['TP'])"
   ]
  },
  {
   "cell_type": "code",
   "execution_count": 12,
   "metadata": {},
   "outputs": [],
   "source": [
    "df_merged.drop(['uuid','datasetId'],inplace=True,axis=1)"
   ]
  },
  {
   "cell_type": "code",
   "execution_count": 13,
   "metadata": {},
   "outputs": [
    {
     "name": "stdout",
     "output_type": "stream",
     "text": [
      "<class 'pandas.core.frame.DataFrame'>\n",
      "Int64Index: 369289 entries, 0 to 369288\n",
      "Data columns (total 35 columns):\n",
      " #   Column             Non-Null Count   Dtype  \n",
      "---  ------             --------------   -----  \n",
      " 0   VLF                369289 non-null  float64\n",
      " 1   VLF_PCT            369289 non-null  float64\n",
      " 2   LF                 369289 non-null  float64\n",
      " 3   LF_PCT             369289 non-null  float64\n",
      " 4   LF_NU              369289 non-null  float64\n",
      " 5   HF                 369289 non-null  float64\n",
      " 6   HF_PCT             369289 non-null  float64\n",
      " 7   HF_NU              369289 non-null  float64\n",
      " 8   TP                 369289 non-null  float64\n",
      " 9   LF_HF              369289 non-null  float64\n",
      " 10  HF_LF              369289 non-null  float64\n",
      " 11  SD1                369289 non-null  float64\n",
      " 12  SD2                369289 non-null  float64\n",
      " 13  sampen             369289 non-null  float64\n",
      " 14  higuci             369289 non-null  float64\n",
      " 15  condition          369289 non-null  object \n",
      " 16  MEAN_RR            369289 non-null  float64\n",
      " 17  MEDIAN_RR          369289 non-null  float64\n",
      " 18  SDRR               369289 non-null  float64\n",
      " 19  RMSSD              369289 non-null  float64\n",
      " 20  SDSD               369289 non-null  float64\n",
      " 21  SDRR_RMSSD         369289 non-null  float64\n",
      " 22  HR                 369289 non-null  float64\n",
      " 23  pNN25              369289 non-null  float64\n",
      " 24  pNN50              369289 non-null  float64\n",
      " 25  KURT               369289 non-null  float64\n",
      " 26  SKEW               369289 non-null  float64\n",
      " 27  MEAN_REL_RR        369289 non-null  float64\n",
      " 28  MEDIAN_REL_RR      369289 non-null  float64\n",
      " 29  SDRR_REL_RR        369289 non-null  float64\n",
      " 30  RMSSD_REL_RR       369289 non-null  float64\n",
      " 31  SDSD_REL_RR        369289 non-null  float64\n",
      " 32  SDRR_RMSSD_REL_RR  369289 non-null  float64\n",
      " 33  KURT_REL_RR        369289 non-null  float64\n",
      " 34  SKEW_REL_RR        369289 non-null  float64\n",
      "dtypes: float64(34), object(1)\n",
      "memory usage: 101.4+ MB\n"
     ]
    }
   ],
   "source": [
    "df_merged.info()"
   ]
  },
  {
   "cell_type": "code",
   "execution_count": 14,
   "metadata": {},
   "outputs": [
    {
     "data": {
      "text/plain": [
       "array(['no stress', 'interruption', 'time pressure'], dtype=object)"
      ]
     },
     "execution_count": 14,
     "metadata": {},
     "output_type": "execute_result"
    }
   ],
   "source": [
    "df_merged['condition'].unique()"
   ]
  },
  {
   "cell_type": "code",
   "execution_count": 15,
   "metadata": {},
   "outputs": [
    {
     "name": "stdout",
     "output_type": "stream",
     "text": [
      "['no stress' 'interruption' 'time pressure']\n",
      "['no stress' 'interruption' 'time pressure']\n"
     ]
    }
   ],
   "source": [
    "print(df_merged['condition'].unique())\n",
    "print(df_merged['condition'].unique())\n",
    "oneHotCols=['condition']\n",
    "df_merged_final=pd.get_dummies(df_merged,columns=oneHotCols)\n",
    "#df_merged_final['condition'].head(10)"
   ]
  },
  {
   "cell_type": "code",
   "execution_count": 16,
   "metadata": {},
   "outputs": [
    {
     "name": "stdout",
     "output_type": "stream",
     "text": [
      "<class 'pandas.core.frame.DataFrame'>\n",
      "Int64Index: 369289 entries, 0 to 369288\n",
      "Data columns (total 37 columns):\n",
      " #   Column                   Non-Null Count   Dtype  \n",
      "---  ------                   --------------   -----  \n",
      " 0   VLF                      369289 non-null  float64\n",
      " 1   VLF_PCT                  369289 non-null  float64\n",
      " 2   LF                       369289 non-null  float64\n",
      " 3   LF_PCT                   369289 non-null  float64\n",
      " 4   LF_NU                    369289 non-null  float64\n",
      " 5   HF                       369289 non-null  float64\n",
      " 6   HF_PCT                   369289 non-null  float64\n",
      " 7   HF_NU                    369289 non-null  float64\n",
      " 8   TP                       369289 non-null  float64\n",
      " 9   LF_HF                    369289 non-null  float64\n",
      " 10  HF_LF                    369289 non-null  float64\n",
      " 11  SD1                      369289 non-null  float64\n",
      " 12  SD2                      369289 non-null  float64\n",
      " 13  sampen                   369289 non-null  float64\n",
      " 14  higuci                   369289 non-null  float64\n",
      " 15  MEAN_RR                  369289 non-null  float64\n",
      " 16  MEDIAN_RR                369289 non-null  float64\n",
      " 17  SDRR                     369289 non-null  float64\n",
      " 18  RMSSD                    369289 non-null  float64\n",
      " 19  SDSD                     369289 non-null  float64\n",
      " 20  SDRR_RMSSD               369289 non-null  float64\n",
      " 21  HR                       369289 non-null  float64\n",
      " 22  pNN25                    369289 non-null  float64\n",
      " 23  pNN50                    369289 non-null  float64\n",
      " 24  KURT                     369289 non-null  float64\n",
      " 25  SKEW                     369289 non-null  float64\n",
      " 26  MEAN_REL_RR              369289 non-null  float64\n",
      " 27  MEDIAN_REL_RR            369289 non-null  float64\n",
      " 28  SDRR_REL_RR              369289 non-null  float64\n",
      " 29  RMSSD_REL_RR             369289 non-null  float64\n",
      " 30  SDSD_REL_RR              369289 non-null  float64\n",
      " 31  SDRR_RMSSD_REL_RR        369289 non-null  float64\n",
      " 32  KURT_REL_RR              369289 non-null  float64\n",
      " 33  SKEW_REL_RR              369289 non-null  float64\n",
      " 34  condition_interruption   369289 non-null  uint8  \n",
      " 35  condition_no stress      369289 non-null  uint8  \n",
      " 36  condition_time pressure  369289 non-null  uint8  \n",
      "dtypes: float64(34), uint8(3)\n",
      "memory usage: 99.7 MB\n"
     ]
    }
   ],
   "source": [
    "df_merged_final.info()"
   ]
  },
  {
   "cell_type": "code",
   "execution_count": 17,
   "metadata": {},
   "outputs": [
    {
     "data": {
      "image/png": "[encoded data removed]",
      "text/plain": [
       "<Figure size 1728x1152 with 2 Axes>"
      ]
     },
     "metadata": {
      "needs_background": "light"
     },
     "output_type": "display_data"
    }
   ],
   "source": [
    "plt.figure(figsize=(24,16))  #setting the figure size\n",
    "sns.heatmap(df_merged_final.corr(), cmap='plasma')  #heat map to plot the above table\n",
    "plt.show()"
   ]
  },
  {
   "cell_type": "code",
   "execution_count": 18,
   "metadata": {},
   "outputs": [],
   "source": [
    "corr = df_merged_final.corr()"
   ]
  },
  {
   "cell_type": "code",
   "execution_count": null,
   "metadata": {},
   "outputs": [],
   "source": []
  },
  {
   "cell_type": "code",
   "execution_count": 19,
   "metadata": {},
   "outputs": [],
   "source": [
    "X =  df_merged_final.drop('HR',axis=1)     # Predictor feature columns \n",
    "Y =  df_merged_final['HR']   # Target column\n"
   ]
  },
  {
   "cell_type": "code",
   "execution_count": 20,
   "metadata": {},
   "outputs": [],
   "source": [
    "from scipy.stats import zscore\n",
    "X_z = X.apply(zscore) #for cross validation"
   ]
  },
  {
   "cell_type": "code",
   "execution_count": 21,
   "metadata": {},
   "outputs": [],
   "source": [
    "X_train, X_test, y_train, y_test = train_test_split(X, Y, test_size=0.3, random_state=1)"
   ]
  },
  {
   "cell_type": "code",
   "execution_count": 22,
   "metadata": {},
   "outputs": [
    {
     "name": "stdout",
     "output_type": "stream",
     "text": [
      "(258502,)\n",
      "<class 'pandas.core.series.Series'>\n"
     ]
    }
   ],
   "source": [
    "y_train.head()\n",
    "print(y_train.shape)\n",
    "print(type(y_train))"
   ]
  },
  {
   "cell_type": "code",
   "execution_count": 23,
   "metadata": {},
   "outputs": [],
   "source": [
    "#from scipy.stats import zscore\n",
    "X_train_z = X_train.apply(zscore)\n",
    "#y_train_1 = df_merged_final.apply(zscore)"
   ]
  },
  {
   "cell_type": "code",
   "execution_count": 24,
   "metadata": {},
   "outputs": [],
   "source": [
    "#y_train_z = y_train_1['HR']\n",
    "#print(y_train_z.shape)\n",
    "#y_train_z"
   ]
  },
  {
   "cell_type": "code",
   "execution_count": 25,
   "metadata": {},
   "outputs": [
    {
     "data": {
      "text/plain": [
       "Index(['VLF', 'VLF_PCT', 'LF', 'LF_PCT', 'LF_NU', 'HF', 'HF_PCT', 'HF_NU',\n",
       "       'TP', 'LF_HF', 'HF_LF', 'SD1', 'SD2', 'sampen', 'higuci', 'MEAN_RR',\n",
       "       'MEDIAN_RR', 'SDRR', 'RMSSD', 'SDSD', 'SDRR_RMSSD', 'pNN25', 'pNN50',\n",
       "       'KURT', 'SKEW', 'MEAN_REL_RR', 'MEDIAN_REL_RR', 'SDRR_REL_RR',\n",
       "       'RMSSD_REL_RR', 'SDSD_REL_RR', 'SDRR_RMSSD_REL_RR', 'KURT_REL_RR',\n",
       "       'SKEW_REL_RR', 'condition_interruption', 'condition_no stress',\n",
       "       'condition_time pressure'],\n",
       "      dtype='object')"
      ]
     },
     "execution_count": 25,
     "metadata": {},
     "output_type": "execute_result"
    }
   ],
   "source": [
    "X_train_z.columns"
   ]
  },
  {
   "cell_type": "code",
   "execution_count": 26,
   "metadata": {},
   "outputs": [],
   "source": [
    "#print(X_train_z.columns)\n",
    "#for i in np.arange(0,36,4):\n",
    " #   print(i)\n",
    "  #  X_train_z[[X_train_z.columns[i],X_train_z.columns[i+1],X_train_z.columns[i+2],X_train_z.columns[i+3]]].boxplot(figsize=(20,8))\n",
    "   # plt.show()\n",
    "#plt.tight_layout()"
   ]
  },
  {
   "cell_type": "code",
   "execution_count": null,
   "metadata": {},
   "outputs": [],
   "source": []
  },
  {
   "cell_type": "code",
   "execution_count": 27,
   "metadata": {},
   "outputs": [],
   "source": [
    "covMatrix = np.cov(X_train_z,rowvar=False)\n",
    "#print(covMatrix)"
   ]
  },
  {
   "cell_type": "code",
   "execution_count": 28,
   "metadata": {},
   "outputs": [
    {
     "data": {
      "text/plain": [
       "(36, 36)"
      ]
     },
     "execution_count": 28,
     "metadata": {},
     "output_type": "execute_result"
    }
   ],
   "source": [
    "covMatrix.shape"
   ]
  },
  {
   "cell_type": "code",
   "execution_count": 29,
   "metadata": {},
   "outputs": [
    {
     "data": {
      "text/plain": [
       "PCA(n_components=36)"
      ]
     },
     "execution_count": 29,
     "metadata": {},
     "output_type": "execute_result"
    }
   ],
   "source": [
    "from sklearn.decomposition import PCA\n",
    "pca = PCA(n_components=36)\n",
    "pca.fit(X_train_z)"
   ]
  },
  {
   "cell_type": "code",
   "execution_count": 30,
   "metadata": {},
   "outputs": [
    {
     "name": "stdout",
     "output_type": "stream",
     "text": [
      "[8.94590975e+00 8.59482643e+00 6.38983540e+00 2.52083622e+00\n",
      " 1.61702019e+00 1.37851160e+00 1.11185406e+00 9.86462639e-01\n",
      " 9.69111148e-01 9.38441218e-01 6.07734756e-01 4.97859849e-01\n",
      " 3.70545653e-01 2.47091410e-01 2.25849892e-01 2.08550414e-01\n",
      " 1.08763410e-01 8.75220778e-02 5.63015746e-02 4.48931037e-02\n",
      " 3.08379026e-02 2.51928426e-02 1.43795619e-02 1.33110925e-02\n",
      " 6.10820571e-03 2.38858845e-03 1.59384026e-07 1.19091570e-07\n",
      " 4.06178760e-11 4.88345639e-29 4.26355922e-29 6.62842939e-30\n",
      " 4.76804526e-30 2.92834377e-30 2.73857614e-30 1.99666735e-30]\n"
     ]
    }
   ],
   "source": [
    "print(pca.explained_variance_)"
   ]
  },
  {
   "cell_type": "code",
   "execution_count": 31,
   "metadata": {},
   "outputs": [
    {
     "name": "stdout",
     "output_type": "stream",
     "text": [
      "[[-1.45454725e-01 -1.94553213e-01  7.69660396e-02 ...  1.08445289e-02\n",
      "   6.90368085e-02 -1.03769646e-01]\n",
      " [-1.74627282e-01  4.21230401e-02 -2.80804679e-01 ... -7.92007762e-02\n",
      "   8.96924982e-02 -2.36011943e-02]\n",
      " [ 2.47725685e-01  2.73840053e-01 -1.50171737e-01 ... -7.61675940e-02\n",
      "   5.40662097e-02  1.96612184e-02]\n",
      " ...\n",
      " [ 5.58282571e-01 -3.94973669e-01  1.76047349e-01 ...  4.81009969e-02\n",
      "   5.30913463e-02  4.03479238e-02]\n",
      " [-0.00000000e+00 -1.06798450e-01  1.06869808e-15 ... -5.73143161e-01\n",
      "  -6.32605226e-01 -4.80762107e-01]\n",
      " [ 0.00000000e+00 -3.44136970e-03 -2.53130714e-15 ... -7.35926904e-02\n",
      "  -8.12277346e-02 -6.17307843e-02]]\n"
     ]
    }
   ],
   "source": [
    "print(pca.components_)"
   ]
  },
  {
   "cell_type": "code",
   "execution_count": 32,
   "metadata": {},
   "outputs": [
    {
     "name": "stdout",
     "output_type": "stream",
     "text": [
      "[2.48496532e-01 2.38744255e-01 1.77494741e-01 7.00229575e-02\n",
      " 4.49170536e-02 3.82918408e-02 3.08847156e-02 2.74016340e-02\n",
      " 2.69196500e-02 2.60677108e-02 1.68814557e-02 1.38293867e-02\n",
      " 1.02928950e-02 6.86362373e-03 6.27358384e-03 5.79304464e-03\n",
      " 3.02119413e-03 2.43115942e-03 1.56392658e-03 1.24702583e-03\n",
      " 8.56605091e-04 6.99798475e-04 3.99430731e-04 3.69751138e-04\n",
      " 1.69671724e-04 6.63494225e-05 4.42731693e-09 3.30808638e-09\n",
      " 1.12826997e-12 1.35651042e-30 1.18431742e-30 1.84122326e-31\n",
      " 1.32445189e-31 8.13425679e-32 7.60712653e-32 5.54627675e-32]\n"
     ]
    }
   ],
   "source": [
    "print(pca.explained_variance_ratio_)"
   ]
  },
  {
   "cell_type": "code",
   "execution_count": 33,
   "metadata": {},
   "outputs": [
    {
     "data": {
      "image/png": "[encoded data removed]",
      "text/plain": [
       "<Figure size 1008x720 with 1 Axes>"
      ]
     },
     "metadata": {
      "needs_background": "light"
     },
     "output_type": "display_data"
    }
   ],
   "source": [
    "plt.figure(figsize=(14,10)) \n",
    "plt.bar(list(range(1,37)),pca.explained_variance_ratio_,alpha=0.5, align='center')\n",
    "plt.ylabel('Variation explained')\n",
    "plt.xlabel('eigen Value')\n",
    "plt.show()"
   ]
  },
  {
   "cell_type": "code",
   "execution_count": 34,
   "metadata": {},
   "outputs": [
    {
     "data": {
      "text/plain": [
       "0.9599519325248903"
      ]
     },
     "execution_count": 34,
     "metadata": {},
     "output_type": "execute_result"
    }
   ],
   "source": [
    "n_comp = 12\n",
    "np.sum(pca.explained_variance_ratio_[0:n_comp])"
   ]
  },
  {
   "cell_type": "code",
   "execution_count": 35,
   "metadata": {},
   "outputs": [
    {
     "data": {
      "text/plain": [
       "(258502, 36)"
      ]
     },
     "execution_count": 35,
     "metadata": {},
     "output_type": "execute_result"
    }
   ],
   "source": [
    "X_train_z.shape"
   ]
  },
  {
   "cell_type": "code",
   "execution_count": null,
   "metadata": {},
   "outputs": [],
   "source": []
  },
  {
   "cell_type": "code",
   "execution_count": 36,
   "metadata": {},
   "outputs": [
    {
     "data": {
      "image/png": "[encoded data removed]",
      "text/plain": [
       "<Figure size 1008x720 with 1 Axes>"
      ]
     },
     "metadata": {
      "needs_background": "light"
     },
     "output_type": "display_data"
    }
   ],
   "source": [
    "plt.figure(figsize=(14,10)) \n",
    "plt.step(list(range(1,37)),np.cumsum(pca.explained_variance_ratio_), where='mid')\n",
    "plt.ylabel('Cum of variation explained')\n",
    "plt.xlabel('eigen Value')\n",
    "plt.show()"
   ]
  },
  {
   "cell_type": "code",
   "execution_count": 37,
   "metadata": {},
   "outputs": [
    {
     "name": "stdout",
     "output_type": "stream",
     "text": [
      "[0.24849653 0.23874426 0.17749474 0.07002296 0.04491705 0.03829184\n",
      " 0.03088472 0.02740163 0.02691965 0.02606771 0.01688146 0.01382939]\n",
      "0.9599519325248936\n",
      "(258502, 12)\n"
     ]
    }
   ],
   "source": [
    "n_comp=12\n",
    "pca12 = PCA(n_components=n_comp)\n",
    "pca12.fit(X_train_z)\n",
    "#print(pca12.components_)\n",
    "print(pca12.explained_variance_ratio_)\n",
    "print(np.sum(pca12.explained_variance_ratio_[0:n_comp]))\n",
    "Xpca12 = pca12.transform(X_train_z)\n",
    "print(Xpca12.shape)"
   ]
  },
  {
   "cell_type": "code",
   "execution_count": 38,
   "metadata": {},
   "outputs": [],
   "source": [
    "df = pd.DataFrame(data=Xpca12, columns=[\"c1\", \"c2\",\"c3\",\"c4\",\"c5\",\"c6\", \"c7\", \"c8\",\"c9\",\"c10\",\"c11\",\"c12\"])"
   ]
  },
  {
   "cell_type": "code",
   "execution_count": 39,
   "metadata": {},
   "outputs": [
    {
     "name": "stdout",
     "output_type": "stream",
     "text": [
      "<class 'pandas.core.frame.DataFrame'>\n",
      "RangeIndex: 258502 entries, 0 to 258501\n",
      "Data columns (total 12 columns):\n",
      " #   Column  Non-Null Count   Dtype  \n",
      "---  ------  --------------   -----  \n",
      " 0   c1      258502 non-null  float64\n",
      " 1   c2      258502 non-null  float64\n",
      " 2   c3      258502 non-null  float64\n",
      " 3   c4      258502 non-null  float64\n",
      " 4   c5      258502 non-null  float64\n",
      " 5   c6      258502 non-null  float64\n",
      " 6   c7      258502 non-null  float64\n",
      " 7   c8      258502 non-null  float64\n",
      " 8   c9      258502 non-null  float64\n",
      " 9   c10     258502 non-null  float64\n",
      " 10  c11     258502 non-null  float64\n",
      " 11  c12     258502 non-null  float64\n",
      "dtypes: float64(12)\n",
      "memory usage: 23.7 MB\n"
     ]
    }
   ],
   "source": [
    "df.info()"
   ]
  },
  {
   "cell_type": "code",
   "execution_count": 40,
   "metadata": {},
   "outputs": [
    {
     "data": {
      "text/html": [
       "<div>\n",
       "<style scoped>\n",
       "    .dataframe tbody tr th:only-of-type {\n",
       "        vertical-align: middle;\n",
       "    }\n",
       "\n",
       "    .dataframe tbody tr th {\n",
       "        vertical-align: top;\n",
       "    }\n",
       "\n",
       "    .dataframe thead th {\n",
       "        text-align: right;\n",
       "    }\n",
       "</style>\n",
       "<table border=\"1\" class=\"dataframe\">\n",
       "  <thead>\n",
       "    <tr style=\"text-align: right;\">\n",
       "      <th></th>\n",
       "      <th>count</th>\n",
       "      <th>mean</th>\n",
       "      <th>std</th>\n",
       "      <th>min</th>\n",
       "      <th>25%</th>\n",
       "      <th>50%</th>\n",
       "      <th>75%</th>\n",
       "      <th>max</th>\n",
       "    </tr>\n",
       "  </thead>\n",
       "  <tbody>\n",
       "    <tr>\n",
       "      <th>c1</th>\n",
       "      <td>258502.0</td>\n",
       "      <td>-9.901824e-17</td>\n",
       "      <td>2.990971</td>\n",
       "      <td>-8.697169</td>\n",
       "      <td>-1.908888</td>\n",
       "      <td>-0.383208</td>\n",
       "      <td>1.830019</td>\n",
       "      <td>13.838751</td>\n",
       "    </tr>\n",
       "    <tr>\n",
       "      <th>c2</th>\n",
       "      <td>258502.0</td>\n",
       "      <td>-7.478336e-17</td>\n",
       "      <td>2.931693</td>\n",
       "      <td>-8.432429</td>\n",
       "      <td>-2.235879</td>\n",
       "      <td>0.564349</td>\n",
       "      <td>2.256060</td>\n",
       "      <td>9.604592</td>\n",
       "    </tr>\n",
       "    <tr>\n",
       "      <th>c3</th>\n",
       "      <td>258502.0</td>\n",
       "      <td>2.312607e-17</td>\n",
       "      <td>2.527812</td>\n",
       "      <td>-3.983783</td>\n",
       "      <td>-1.641130</td>\n",
       "      <td>-0.648837</td>\n",
       "      <td>0.850090</td>\n",
       "      <td>15.455848</td>\n",
       "    </tr>\n",
       "    <tr>\n",
       "      <th>c4</th>\n",
       "      <td>258502.0</td>\n",
       "      <td>-2.787304e-17</td>\n",
       "      <td>1.587714</td>\n",
       "      <td>-5.535639</td>\n",
       "      <td>-0.857942</td>\n",
       "      <td>-0.074043</td>\n",
       "      <td>0.691532</td>\n",
       "      <td>39.346414</td>\n",
       "    </tr>\n",
       "    <tr>\n",
       "      <th>c5</th>\n",
       "      <td>258502.0</td>\n",
       "      <td>6.973177e-17</td>\n",
       "      <td>1.271621</td>\n",
       "      <td>-3.846785</td>\n",
       "      <td>-1.155253</td>\n",
       "      <td>0.084859</td>\n",
       "      <td>1.118525</td>\n",
       "      <td>14.608666</td>\n",
       "    </tr>\n",
       "    <tr>\n",
       "      <th>c6</th>\n",
       "      <td>258502.0</td>\n",
       "      <td>-2.514110e-17</td>\n",
       "      <td>1.174100</td>\n",
       "      <td>-4.123665</td>\n",
       "      <td>-0.784404</td>\n",
       "      <td>0.049336</td>\n",
       "      <td>0.729143</td>\n",
       "      <td>11.679770</td>\n",
       "    </tr>\n",
       "    <tr>\n",
       "      <th>c7</th>\n",
       "      <td>258502.0</td>\n",
       "      <td>-9.740467e-18</td>\n",
       "      <td>1.054445</td>\n",
       "      <td>-4.940517</td>\n",
       "      <td>-0.586969</td>\n",
       "      <td>0.024935</td>\n",
       "      <td>0.623012</td>\n",
       "      <td>14.310268</td>\n",
       "    </tr>\n",
       "    <tr>\n",
       "      <th>c8</th>\n",
       "      <td>258502.0</td>\n",
       "      <td>-6.742502e-17</td>\n",
       "      <td>0.993208</td>\n",
       "      <td>-6.325756</td>\n",
       "      <td>-0.537482</td>\n",
       "      <td>0.041952</td>\n",
       "      <td>0.547928</td>\n",
       "      <td>6.447789</td>\n",
       "    </tr>\n",
       "    <tr>\n",
       "      <th>c9</th>\n",
       "      <td>258502.0</td>\n",
       "      <td>-6.273463e-17</td>\n",
       "      <td>0.984434</td>\n",
       "      <td>-6.853941</td>\n",
       "      <td>-0.558329</td>\n",
       "      <td>-0.019511</td>\n",
       "      <td>0.525378</td>\n",
       "      <td>7.907285</td>\n",
       "    </tr>\n",
       "    <tr>\n",
       "      <th>c10</th>\n",
       "      <td>258502.0</td>\n",
       "      <td>-1.236096e-17</td>\n",
       "      <td>0.968732</td>\n",
       "      <td>-2.600050</td>\n",
       "      <td>-0.560704</td>\n",
       "      <td>-0.116846</td>\n",
       "      <td>0.426683</td>\n",
       "      <td>14.039260</td>\n",
       "    </tr>\n",
       "    <tr>\n",
       "      <th>c11</th>\n",
       "      <td>258502.0</td>\n",
       "      <td>-3.932811e-17</td>\n",
       "      <td>0.779573</td>\n",
       "      <td>-2.758325</td>\n",
       "      <td>-0.571492</td>\n",
       "      <td>-0.057665</td>\n",
       "      <td>0.509075</td>\n",
       "      <td>7.357558</td>\n",
       "    </tr>\n",
       "    <tr>\n",
       "      <th>c12</th>\n",
       "      <td>258502.0</td>\n",
       "      <td>-5.476965e-17</td>\n",
       "      <td>0.705592</td>\n",
       "      <td>-4.881459</td>\n",
       "      <td>-0.456011</td>\n",
       "      <td>-0.021287</td>\n",
       "      <td>0.441200</td>\n",
       "      <td>7.986852</td>\n",
       "    </tr>\n",
       "  </tbody>\n",
       "</table>\n",
       "</div>"
      ],
      "text/plain": [
       "        count          mean       std       min       25%       50%       75%  \\\n",
       "c1   258502.0 -9.901824e-17  2.990971 -8.697169 -1.908888 -0.383208  1.830019   \n",
       "c2   258502.0 -7.478336e-17  2.931693 -8.432429 -2.235879  0.564349  2.256060   \n",
       "c3   258502.0  2.312607e-17  2.527812 -3.983783 -1.641130 -0.648837  0.850090   \n",
       "c4   258502.0 -2.787304e-17  1.587714 -5.535639 -0.857942 -0.074043  0.691532   \n",
       "c5   258502.0  6.973177e-17  1.271621 -3.846785 -1.155253  0.084859  1.118525   \n",
       "c6   258502.0 -2.514110e-17  1.174100 -4.123665 -0.784404  0.049336  0.729143   \n",
       "c7   258502.0 -9.740467e-18  1.054445 -4.940517 -0.586969  0.024935  0.623012   \n",
       "c8   258502.0 -6.742502e-17  0.993208 -6.325756 -0.537482  0.041952  0.547928   \n",
       "c9   258502.0 -6.273463e-17  0.984434 -6.853941 -0.558329 -0.019511  0.525378   \n",
       "c10  258502.0 -1.236096e-17  0.968732 -2.600050 -0.560704 -0.116846  0.426683   \n",
       "c11  258502.0 -3.932811e-17  0.779573 -2.758325 -0.571492 -0.057665  0.509075   \n",
       "c12  258502.0 -5.476965e-17  0.705592 -4.881459 -0.456011 -0.021287  0.441200   \n",
       "\n",
       "           max  \n",
       "c1   13.838751  \n",
       "c2    9.604592  \n",
       "c3   15.455848  \n",
       "c4   39.346414  \n",
       "c5   14.608666  \n",
       "c6   11.679770  \n",
       "c7   14.310268  \n",
       "c8    6.447789  \n",
       "c9    7.907285  \n",
       "c10  14.039260  \n",
       "c11   7.357558  \n",
       "c12   7.986852  "
      ]
     },
     "execution_count": 40,
     "metadata": {},
     "output_type": "execute_result"
    }
   ],
   "source": [
    "df.describe().T"
   ]
  },
  {
   "cell_type": "markdown",
   "metadata": {},
   "source": [
    "# PCA in X_test"
   ]
  },
  {
   "cell_type": "code",
   "execution_count": 41,
   "metadata": {},
   "outputs": [
    {
     "name": "stdout",
     "output_type": "stream",
     "text": [
      "[2.49379391e-01 2.38345850e-01 1.76755131e-01 7.07452865e-02\n",
      " 4.49726483e-02 3.79658050e-02 3.06838840e-02 2.72982369e-02\n",
      " 2.69034153e-02 2.61896683e-02 1.68459238e-02 1.38948307e-02\n",
      " 1.03289687e-02 6.78975364e-03 6.29873808e-03 5.78491422e-03\n",
      " 3.02892664e-03 2.41195763e-03 1.57473591e-03 1.24719826e-03\n",
      " 8.55050684e-04 7.02449319e-04 3.96603633e-04 3.66084392e-04\n",
      " 1.67960244e-04 6.65796508e-05 4.44052357e-09 3.45429721e-09\n",
      " 1.23159167e-12 1.21607844e-30 3.06157025e-31 1.07534933e-31\n",
      " 2.73313324e-32 2.20125334e-32 1.88299225e-32 7.62564835e-33]\n"
     ]
    }
   ],
   "source": [
    "X_test_z = X_test.apply(zscore)\n",
    "covMatrix_test = np.cov(X_test_z,rowvar=False)\n",
    "pca_test = PCA(n_components=36)\n",
    "pca_test.fit(X_test_z)\n",
    "print(pca_test.explained_variance_ratio_)"
   ]
  },
  {
   "cell_type": "code",
   "execution_count": 42,
   "metadata": {},
   "outputs": [
    {
     "data": {
      "image/png": "[encoded data removed]",
      "text/plain": [
       "<Figure size 1008x720 with 1 Axes>"
      ]
     },
     "metadata": {
      "needs_background": "light"
     },
     "output_type": "display_data"
    }
   ],
   "source": [
    "plt.figure(figsize=(14,10)) \n",
    "plt.bar(list(range(1,37)),pca_test.explained_variance_ratio_,alpha=0.5, align='center')\n",
    "plt.ylabel('Variation explained')\n",
    "plt.xlabel('eigen Value')\n",
    "plt.show()"
   ]
  },
  {
   "cell_type": "code",
   "execution_count": 43,
   "metadata": {},
   "outputs": [
    {
     "name": "stdout",
     "output_type": "stream",
     "text": [
      "[0.24937939 0.23834585 0.17675513 0.07074529 0.04497265 0.03796581\n",
      " 0.03068388 0.02729824 0.02690342 0.02618967 0.01684592 0.01389483]\n",
      "0.9599800710829615\n",
      "(110787, 12)\n"
     ]
    }
   ],
   "source": [
    "n_comp=12\n",
    "pca12_test = PCA(n_components=n_comp)\n",
    "pca12_test.fit(X_test_z)\n",
    "print(pca12_test.explained_variance_ratio_)\n",
    "print(np.sum(pca12_test.explained_variance_ratio_[0:n_comp]))\n",
    "Xpca12_test = pca12_test.transform(X_test_z)\n",
    "print(Xpca12_test.shape)"
   ]
  },
  {
   "cell_type": "code",
   "execution_count": null,
   "metadata": {},
   "outputs": [],
   "source": []
  },
  {
   "cell_type": "code",
   "execution_count": 44,
   "metadata": {},
   "outputs": [
    {
     "name": "stdout",
     "output_type": "stream",
     "text": [
      "[0.24849653 0.23874426 0.17749474 0.07002296 0.04491705 0.03829184\n",
      " 0.03088472 0.02740163 0.02691965 0.02606771 0.01688146 0.01382939]\n",
      "0.9599519325248936\n",
      "(258502, 12)\n"
     ]
    }
   ],
   "source": [
    "print(pca12.explained_variance_ratio_)\n",
    "print(np.sum(pca12.explained_variance_ratio_[0:n_comp]))\n",
    "Xpca12 = pca12.transform(X_train_z)\n",
    "print(Xpca12.shape)"
   ]
  },
  {
   "cell_type": "code",
   "execution_count": null,
   "metadata": {},
   "outputs": [],
   "source": []
  },
  {
   "cell_type": "code",
   "execution_count": null,
   "metadata": {},
   "outputs": [],
   "source": []
  },
  {
   "cell_type": "markdown",
   "metadata": {},
   "source": [
    "# Gradient Boost Regressor"
   ]
  },
  {
   "cell_type": "code",
   "execution_count": 45,
   "metadata": {},
   "outputs": [],
   "source": [
    "from sklearn.ensemble import GradientBoostingRegressor as gbr\n",
    "from sklearn.model_selection import train_test_split\n",
    "from sklearn.metrics import mean_squared_error"
   ]
  },
  {
   "cell_type": "code",
   "execution_count": 46,
   "metadata": {},
   "outputs": [],
   "source": [
    "params_GBR = {'loss': 'ls',\n",
    "          'learning_rate': 0.03,\n",
    "          'n_estimators': 100,\n",
    "          'subsample': 0.8,\n",
    "          'max_depth': 100,\n",
    "          'max_features': 0.3,\n",
    "          'min_impurity_decrease': 1e-10,\n",
    "          'min_samples_leaf': 5\n",
    "         }"
   ]
  },
  {
   "cell_type": "code",
   "execution_count": 47,
   "metadata": {},
   "outputs": [
    {
     "name": "stdout",
     "output_type": "stream",
     "text": [
      "Gradient Boost Model\n"
     ]
    }
   ],
   "source": [
    "print('Gradient Boost Model')\n",
    "reg_GBR = gbr(random_state=98,**params_GBR)\n",
    "reg_GBR.fit(Xpca12, y_train)\n",
    "y_pred_GBR = reg_GBR.predict(Xpca12_test)"
   ]
  },
  {
   "cell_type": "code",
   "execution_count": 48,
   "metadata": {},
   "outputs": [
    {
     "name": "stdout",
     "output_type": "stream",
     "text": [
      "0.8250513433334927\n",
      "0.017252965178896244\n"
     ]
    }
   ],
   "source": [
    "MAE_error_GBR = np.sum(abs(y_pred_GBR - y_test))/(y_test.shape[0])\n",
    "print(MAE_error_GBR)\n",
    "nrmse_GBR = np.sqrt(mean_squared_error(y_test, y_pred_GBR)) / np.mean(y_test)\n",
    "print(nrmse_GBR)"
   ]
  },
  {
   "cell_type": "code",
   "execution_count": 49,
   "metadata": {},
   "outputs": [
    {
     "name": "stdout",
     "output_type": "stream",
     "text": [
      "           Method  MAE Score     NRMSE\n",
      "0  Gradient Boost   0.825051  0.017253\n"
     ]
    }
   ],
   "source": [
    "resultsDf = []\n",
    "resultsDf = pd.DataFrame({'Method':['Gradient Boost'],'MAE Score':MAE_error_GBR, 'NRMSE': nrmse_GBR})\n",
    "resultsDf = resultsDf[['Method','MAE Score', 'NRMSE']]\n",
    "print(resultsDf)"
   ]
  },
  {
   "cell_type": "code",
   "execution_count": null,
   "metadata": {},
   "outputs": [],
   "source": []
  },
  {
   "cell_type": "markdown",
   "metadata": {},
   "source": [
    "# Linear Regression"
   ]
  },
  {
   "cell_type": "code",
   "execution_count": 50,
   "metadata": {},
   "outputs": [
    {
     "data": {
      "text/plain": [
       "LinearRegression()"
      ]
     },
     "execution_count": 50,
     "metadata": {},
     "output_type": "execute_result"
    }
   ],
   "source": [
    "regression_model = LinearRegression()\n",
    "regression_model.fit(Xpca12, y_train)"
   ]
  },
  {
   "cell_type": "code",
   "execution_count": 51,
   "metadata": {},
   "outputs": [],
   "source": [
    "y_pred_lr = regression_model.predict(Xpca12_test) "
   ]
  },
  {
   "cell_type": "code",
   "execution_count": 52,
   "metadata": {},
   "outputs": [
    {
     "name": "stdout",
     "output_type": "stream",
     "text": [
      "1.8169066001278384\n",
      "0.03479784597732102\n"
     ]
    }
   ],
   "source": [
    "MAE_error_lr = np.sum(abs(y_pred_lr-y_test))/(y_test.shape[0])\n",
    "print(MAE_error_lr)\n",
    "nrmse_lr = np.sqrt(mean_squared_error(y_test, y_pred_lr)) / np.mean(y_test)\n",
    "print(nrmse_lr)"
   ]
  },
  {
   "cell_type": "code",
   "execution_count": 53,
   "metadata": {},
   "outputs": [
    {
     "name": "stdout",
     "output_type": "stream",
     "text": [
      "              Method  MAE Score     NRMSE\n",
      "0     Gradient Boost   0.825051  0.017253\n",
      "0  Linear Regression   1.816907  0.034798\n"
     ]
    }
   ],
   "source": [
    "tempResultsDf = pd.DataFrame({'Method':['Linear Regression'],'MAE Score':MAE_error_lr, 'NRMSE': nrmse_lr})\n",
    "resultsDf = pd.concat([resultsDf, tempResultsDf])\n",
    "resultsDf = resultsDf[['Method','MAE Score', 'NRMSE']]\n",
    "print(resultsDf)"
   ]
  },
  {
   "cell_type": "markdown",
   "metadata": {},
   "source": [
    "# Bagging"
   ]
  },
  {
   "cell_type": "code",
   "execution_count": null,
   "metadata": {},
   "outputs": [],
   "source": []
  },
  {
   "cell_type": "code",
   "execution_count": 54,
   "metadata": {},
   "outputs": [
    {
     "name": "stdout",
     "output_type": "stream",
     "text": [
      "Bagging Regressor Model\n"
     ]
    }
   ],
   "source": [
    "print('Bagging Regressor Model')\n",
    "reg_bgr = BaggingRegressor(random_state=98,n_estimators = 100)\n",
    "reg_bgr.fit(Xpca12, y_train)\n",
    "y_pred_BGR = reg_bgr.predict(Xpca12_test)"
   ]
  },
  {
   "cell_type": "code",
   "execution_count": 55,
   "metadata": {},
   "outputs": [
    {
     "data": {
      "text/plain": [
       "{'base_estimator': None,\n",
       " 'bootstrap': True,\n",
       " 'bootstrap_features': False,\n",
       " 'max_features': 1.0,\n",
       " 'max_samples': 1.0,\n",
       " 'n_estimators': 100,\n",
       " 'n_jobs': None,\n",
       " 'oob_score': False,\n",
       " 'random_state': 98,\n",
       " 'verbose': 0,\n",
       " 'warm_start': False}"
      ]
     },
     "execution_count": 55,
     "metadata": {},
     "output_type": "execute_result"
    }
   ],
   "source": [
    "reg_bgr.get_params()"
   ]
  },
  {
   "cell_type": "code",
   "execution_count": 56,
   "metadata": {},
   "outputs": [
    {
     "name": "stdout",
     "output_type": "stream",
     "text": [
      "0.523107379624664\n",
      "0.016297356613608493\n"
     ]
    }
   ],
   "source": [
    "MAE_error_bgr = np.sum(abs(y_pred_BGR-y_test))/(y_test.shape[0])\n",
    "print(MAE_error_bgr)\n",
    "nrmse_bgr = np.sqrt(mean_squared_error(y_test, y_pred_BGR)) / np.mean(y_test)\n",
    "print(nrmse_bgr)"
   ]
  },
  {
   "cell_type": "code",
   "execution_count": 57,
   "metadata": {},
   "outputs": [
    {
     "name": "stdout",
     "output_type": "stream",
     "text": [
      "                                 Method  MAE Score     NRMSE\n",
      "0                        Gradient Boost   0.825051  0.017253\n",
      "0                     Linear Regression   1.816907  0.034798\n",
      "0  Bagging Regressor (n_estimators=100)   0.523107  0.016297\n"
     ]
    }
   ],
   "source": [
    "tempResultsDf = pd.DataFrame({'Method':['Bagging Regressor (n_estimators=100)'],'MAE Score':MAE_error_bgr, 'NRMSE': nrmse_bgr})\n",
    "resultsDf = pd.concat([resultsDf, tempResultsDf])\n",
    "resultsDf = resultsDf[['Method','MAE Score', 'NRMSE']]\n",
    "print(resultsDf)"
   ]
  },
  {
   "cell_type": "code",
   "execution_count": 58,
   "metadata": {},
   "outputs": [],
   "source": [
    "#for base_estimator in [None,\n",
    "#                           DummyRegressor(),\n",
    "#                           DecisionTreeRegressor(),\n",
    " #                          KNeighborsRegressor(),\n",
    " #                          SVR(gamma='scale')]:"
   ]
  },
  {
   "cell_type": "code",
   "execution_count": 59,
   "metadata": {},
   "outputs": [],
   "source": [
    "from sklearn.svm import SVR\n",
    "from sklearn.neighbors import KNeighborsRegressor"
   ]
  },
  {
   "cell_type": "code",
   "execution_count": 60,
   "metadata": {
    "scrolled": true
   },
   "outputs": [
    {
     "name": "stdout",
     "output_type": "stream",
     "text": [
      "Bagging Regressor Model - KNN\n"
     ]
    }
   ],
   "source": [
    "print('Bagging Regressor Model - KNN')\n",
    "bgr_knn = BaggingRegressor(random_state=98,base_estimator = KNeighborsRegressor())\n",
    "bgr_knn.fit(Xpca12, y_train)\n",
    "y_pred_BGR_KNN = bgr_knn.predict(Xpca12_test)"
   ]
  },
  {
   "cell_type": "code",
   "execution_count": 61,
   "metadata": {},
   "outputs": [],
   "source": [
    "#y_pred_test_BGR_KNN = y_pred_test_BGR_SVR"
   ]
  },
  {
   "cell_type": "code",
   "execution_count": 62,
   "metadata": {},
   "outputs": [
    {
     "name": "stdout",
     "output_type": "stream",
     "text": [
      "Bagging with KNN 0.2320424260489691\n",
      "Bagging with KNN 0.007107334154851217\n"
     ]
    }
   ],
   "source": [
    "MAE_error_bgr_KNN = np.sum(abs(y_pred_BGR_KNN-y_test))/(y_test.shape[0])\n",
    "print('Bagging with KNN',MAE_error_bgr_KNN)\n",
    "nrmse_bgr_KNN = np.sqrt(mean_squared_error(y_test, y_pred_BGR_KNN)) / np.mean(y_test)\n",
    "print('Bagging with KNN',nrmse_bgr_KNN)"
   ]
  },
  {
   "cell_type": "code",
   "execution_count": 63,
   "metadata": {},
   "outputs": [
    {
     "name": "stdout",
     "output_type": "stream",
     "text": [
      "                                 Method  MAE Score     NRMSE\n",
      "0                        Gradient Boost   0.825051  0.017253\n",
      "0                     Linear Regression   1.816907  0.034798\n",
      "0  Bagging Regressor (n_estimators=100)   0.523107  0.016297\n",
      "0          Bagging Regressor (with KNN)   0.232042  0.007107\n"
     ]
    }
   ],
   "source": [
    "tempResultsDf = pd.DataFrame({'Method':['Bagging Regressor (with KNN)'],'MAE Score':MAE_error_bgr_KNN, 'NRMSE': nrmse_bgr_KNN})\n",
    "resultsDf = pd.concat([resultsDf, tempResultsDf])\n",
    "resultsDf = resultsDf[['Method','MAE Score', 'NRMSE']]\n",
    "print(resultsDf)"
   ]
  },
  {
   "cell_type": "markdown",
   "metadata": {},
   "source": [
    "# Bagging Regressor with SVR Option Took more than 4 hours to run..and I interrupted it."
   ]
  },
  {
   "cell_type": "code",
   "execution_count": 64,
   "metadata": {},
   "outputs": [],
   "source": [
    "#print('Bagging Regressor Model - SVR')\n",
    "#m2 = BaggingRegressor(random_state=98,base_estimator = SVR(gamma='scale'))\n",
    "#m2.fit(Xpca12, y_train)\n",
    "#y_pred_test_BGR_SVR = m2.predict(Xpca12_test)"
   ]
  },
  {
   "cell_type": "code",
   "execution_count": 65,
   "metadata": {},
   "outputs": [],
   "source": [
    "#MAE_error_bgr_SVR = np.sum(abs(y_pred_test_BGR_SVR-y_test))/(y_test.shape[0])\n",
    "#print('Bagging with SVR',MAE_error_bgr_SVR)\n",
    "#nrmse_bgr_KNN = np.sqrt(mean_squared_error(y_test, y_pred_test_BGR_SVR)) / np.mean(y_test)\n",
    "#print('Bagging with SVR',nrmse_bgr_SVR)"
   ]
  },
  {
   "cell_type": "code",
   "execution_count": 66,
   "metadata": {},
   "outputs": [],
   "source": [
    "#tempResultsDf = pd.DataFrame({'Method':['Bagging Regressor (with SVR)'],'MAE Score':MAE_error_bgr_SVR, 'NRMSE': nrmse_bgr_SVR})\n",
    "#resultsDf = pd.concat([resultsDf, tempResultsDf])\n",
    "#resultsDf = resultsDf[['Method','MAE Score', 'NRMSE']]\n",
    "#print(resultsDf)"
   ]
  },
  {
   "cell_type": "code",
   "execution_count": null,
   "metadata": {},
   "outputs": [],
   "source": []
  },
  {
   "cell_type": "code",
   "execution_count": null,
   "metadata": {},
   "outputs": [],
   "source": []
  },
  {
   "cell_type": "markdown",
   "metadata": {},
   "source": [
    "# Random Forest"
   ]
  },
  {
   "cell_type": "code",
   "execution_count": 67,
   "metadata": {},
   "outputs": [],
   "source": [
    "from sklearn.ensemble import RandomForestRegressor\n",
    "#reg_RF = RandomForestRegressor(n_estimators = 50, random_state=1,max_features=12)\n",
    "rf = RandomForestRegressor(n_estimators = 100, random_state=1)\n",
    "rf.fit(Xpca12, y_train)\n",
    "y_pred_RF = rf.predict(Xpca12_test)"
   ]
  },
  {
   "cell_type": "code",
   "execution_count": 68,
   "metadata": {},
   "outputs": [
    {
     "name": "stdout",
     "output_type": "stream",
     "text": [
      "Random Forest 0.5240474980779051\n",
      "Random Forest 0.016309815607818762\n"
     ]
    }
   ],
   "source": [
    "MAE_error_RF = np.sum(abs(y_pred_RF-y_test))/(y_test.shape[0])\n",
    "print('Random Forest',MAE_error_RF)\n",
    "nrmse_RF = np.sqrt(mean_squared_error(y_test, y_pred_RF)) / np.mean(y_test)\n",
    "print('Random Forest',nrmse_RF)"
   ]
  },
  {
   "cell_type": "code",
   "execution_count": 69,
   "metadata": {},
   "outputs": [
    {
     "name": "stdout",
     "output_type": "stream",
     "text": [
      "                                 Method  MAE Score     NRMSE\n",
      "0                        Gradient Boost   0.825051  0.017253\n",
      "0                     Linear Regression   1.816907  0.034798\n",
      "0  Bagging Regressor (n_estimators=100)   0.523107  0.016297\n",
      "0          Bagging Regressor (with KNN)   0.232042  0.007107\n",
      "0                         Random Forest   0.524047  0.016310\n"
     ]
    }
   ],
   "source": [
    "tempResultsDf = pd.DataFrame({'Method':['Random Forest'],'MAE Score':MAE_error_RF, 'NRMSE': nrmse_RF})\n",
    "resultsDf = pd.concat([resultsDf, tempResultsDf])\n",
    "resultsDf = resultsDf[['Method','MAE Score', 'NRMSE']]\n",
    "print(resultsDf)"
   ]
  },
  {
   "cell_type": "markdown",
   "metadata": {},
   "source": [
    "# Cross validation"
   ]
  },
  {
   "cell_type": "code",
   "execution_count": 71,
   "metadata": {},
   "outputs": [
    {
     "name": "stdout",
     "output_type": "stream",
     "text": [
      "[-0.02950543 -0.03189393 -0.02963848 -0.02863485 -0.02952055 -0.03014062\n",
      " -0.0290878  -0.03192655 -0.03095129 -0.03011236 -0.02939701 -0.02960938\n",
      " -0.02842678 -0.02984581 -0.02996308 -0.02963438 -0.03015567 -0.02886176\n",
      " -0.03124687 -0.02864361 -0.02911713 -0.02937298 -0.02995804 -0.02797632\n",
      " -0.03013301 -0.02942593 -0.03001034 -0.02836993 -0.02907571 -0.02869213\n",
      " -0.02998149 -0.03196662 -0.03072665 -0.02991094 -0.02969799 -0.02938161\n",
      " -0.02878378 -0.03153501 -0.0307577  -0.02975247 -0.02942266 -0.03231681\n",
      " -0.03005878 -0.03022106 -0.03084079 -0.0277412  -0.02889019 -0.02907369\n",
      " -0.02940288 -0.02961465]\n"
     ]
    }
   ],
   "source": [
    "from sklearn.model_selection import KFold\n",
    "from sklearn.model_selection import cross_val_score\n",
    "num_folds = 50\n",
    "seed = 7\n",
    "\n",
    "kfold = KFold(n_splits=num_folds, random_state=seed)\n",
    "model = BaggingRegressor(random_state=seed,base_estimator = KNeighborsRegressor())\n",
    "results = cross_val_score(model, X_z, Y, cv=kfold, scoring='neg_mean_absolute_error')\n",
    "print(results)\n",
    "mae_score_BR = results.mean()\n",
    "stddev_BR = results.std()"
   ]
  },
  {
   "cell_type": "code",
   "execution_count": 72,
   "metadata": {},
   "outputs": [
    {
     "name": "stdout",
     "output_type": "stream",
     "text": [
      "-0.029788093703169705\n",
      "0.0010148933548334966\n"
     ]
    }
   ],
   "source": [
    "print(mae_score_BR)\n",
    "print(stddev_BR )"
   ]
  },
  {
   "cell_type": "markdown",
   "metadata": {},
   "source": [
    "# Import Test Files"
   ]
  },
  {
   "cell_type": "code",
   "execution_count": null,
   "metadata": {},
   "outputs": [],
   "source": [
    "df_freq_test = pd.read_csv(\"frequency_domain_features_test.csv\")\n",
    "df_heart_test = pd.read_csv(\"heart_rate_non_linear_features_test.csv\")\n",
    "df_time_test = pd.read_csv(\"time_domain_features_test.csv\")\n",
    "\n",
    "s1_test = sanity_check_1(df_freq_test)\n",
    "s2_test = sanity_check_1(df_heart_test)\n",
    "s3_test = sanity_check_1(df_time_test)\n",
    "print(\"Frequence domain features\",s1_test)\n",
    "print(\"Heart rate non linear\",s2_test)\n",
    "print(\"Time domain features\",s3_test)"
   ]
  },
  {
   "cell_type": "code",
   "execution_count": null,
   "metadata": {},
   "outputs": [],
   "source": [
    "df_merged_t1 = pd.merge(df_freq_test,df_heart_test,how='inner',on='uuid')\n",
    "df_merged_test = pd.merge(df_merged_t1,df_time_test,how='inner',on='uuid')\n",
    "print(df_merged_t1.shape)\n",
    "print(df_merged_test.shape)"
   ]
  },
  {
   "cell_type": "code",
   "execution_count": null,
   "metadata": {},
   "outputs": [],
   "source": [
    "df_merged_test.drop(['uuid','datasetId'],inplace=True,axis=1)"
   ]
  },
  {
   "cell_type": "code",
   "execution_count": null,
   "metadata": {},
   "outputs": [],
   "source": [
    "print(df_merged_test['condition'].unique())\n",
    "oneHotCols=['condition']\n",
    "df_merged_test_final=pd.get_dummies(df_merged_test,columns=oneHotCols)\n",
    "#df_merged_final['condition'].head(10)"
   ]
  },
  {
   "cell_type": "code",
   "execution_count": null,
   "metadata": {},
   "outputs": [],
   "source": [
    "df_merged_test_final.info()"
   ]
  },
  {
   "cell_type": "code",
   "execution_count": null,
   "metadata": {},
   "outputs": [],
   "source": []
  },
  {
   "cell_type": "code",
   "execution_count": null,
   "metadata": {},
   "outputs": [],
   "source": []
  },
  {
   "cell_type": "code",
   "execution_count": null,
   "metadata": {},
   "outputs": [],
   "source": []
  },
  {
   "cell_type": "code",
   "execution_count": null,
   "metadata": {},
   "outputs": [],
   "source": []
  },
  {
   "cell_type": "code",
   "execution_count": null,
   "metadata": {},
   "outputs": [],
   "source": []
  },
  {
   "cell_type": "code",
   "execution_count": null,
   "metadata": {},
   "outputs": [],
   "source": []
  },
  {
   "cell_type": "markdown",
   "metadata": {},
   "source": [
    "No Null values. 8 Quantitative, continuous features."
   ]
  },
  {
   "cell_type": "code",
   "execution_count": null,
   "metadata": {},
   "outputs": [],
   "source": [
    "df_heart['condition'].unique()"
   ]
  },
  {
   "cell_type": "code",
   "execution_count": null,
   "metadata": {},
   "outputs": [],
   "source": [
    "all_cols = s1.index.tolist()\n",
    "numeric_cols = s1.index.tolist()\n",
    "print(numeric_cols)\n",
    "numeric_cols.remove('strength')\n",
    "print(numeric_cols)"
   ]
  },
  {
   "cell_type": "code",
   "execution_count": null,
   "metadata": {},
   "outputs": [],
   "source": [
    "univariate_numerical(df_freq).T"
   ]
  },
  {
   "cell_type": "code",
   "execution_count": null,
   "metadata": {},
   "outputs": [],
   "source": [
    "univariate_numerical(df_heart).T"
   ]
  },
  {
   "cell_type": "code",
   "execution_count": null,
   "metadata": {},
   "outputs": [],
   "source": [
    "univariate_numerical(df_time).T"
   ]
  },
  {
   "cell_type": "code",
   "execution_count": null,
   "metadata": {},
   "outputs": [],
   "source": [
    "plt.figure(figsize=(12,8))\n",
    "sns.distplot(df_time['HR'],bins=2000)"
   ]
  },
  {
   "cell_type": "code",
   "execution_count": null,
   "metadata": {},
   "outputs": [],
   "source": []
  },
  {
   "cell_type": "code",
   "execution_count": null,
   "metadata": {},
   "outputs": [],
   "source": []
  },
  {
   "cell_type": "code",
   "execution_count": null,
   "metadata": {},
   "outputs": [],
   "source": []
  },
  {
   "cell_type": "code",
   "execution_count": null,
   "metadata": {},
   "outputs": [],
   "source": []
  },
  {
   "cell_type": "code",
   "execution_count": null,
   "metadata": {},
   "outputs": [],
   "source": []
  },
  {
   "cell_type": "code",
   "execution_count": null,
   "metadata": {},
   "outputs": [],
   "source": []
  },
  {
   "cell_type": "code",
   "execution_count": null,
   "metadata": {},
   "outputs": [],
   "source": [
    "for i in all_cols:\n",
    "    fig, axes = plt.subplots(2,1,figsize=(8,6))\n",
    "    axes[0].boxplot(df[i],flierprops=dict(markerfacecolor='r',marker='D'),vert=False)\n",
    "    sns.distplot(df[i],bins=20)"
   ]
  },
  {
   "cell_type": "markdown",
   "metadata": {},
   "source": [
    "Conclusion from Boxplots - 'age', 'superplastic' features and 'strength' output variable have outliers on the higher side.\n",
    "\n",
    "\n",
    "* Cement is normally distributed. \n",
    "* Slag has three gausssians and rightly skewed. \n",
    "* Ash has two gaussians and rightly skewed. \n",
    "* Water has three guassians and slighly left skewed. \n",
    "* Superplastic has two gaussians and rightly skewed. \n",
    "* Coarseagg has three guassians and almost normal. \n",
    "* Fineagg has almost two guassians and looks like normal. \n",
    "* Age has multiple guassians and rightly skewed."
   ]
  },
  {
   "cell_type": "code",
   "execution_count": null,
   "metadata": {},
   "outputs": [],
   "source": [
    "\n",
    "fig, axes = plt.subplots(3,3, figsize=(15,12))\n",
    "\n",
    "for i,feat in enumerate(numeric_cols):\n",
    "    sns.scatterplot(x=feat,y='strength',data=df,ax=axes.flatten()[i])\n",
    "plt.tight_layout()"
   ]
  },
  {
   "cell_type": "markdown",
   "metadata": {},
   "source": [
    "\n",
    "\n",
    "Relationship between independent columns * \n",
    "\n",
    "* Except the cement column no other columns have found to have a visible linear relationship with the strength column. \n",
    "\n",
    "* The columns coarseagg and fineagg seems to have slight positive linear relationship.\n",
    "The presence of outliers are seen between columns slag and ash and as well as cement and ash \n",
    "* The presence of outliers are seen between columns fineagg and ash and as well as coarseagg and ash  \n",
    "* The presence of outliers are seen between columns water and ash \n",
    "The presence of outliers are seen between column superplastic and the columns cement, slag, coarseagg, and fineagg * \n",
    "* It is clearly seen that most of the columns do not have any linear relationship between them. Relationship between target and independent columns * \n",
    "There seems to be a linear relationship between cement and strength column \n",
    "* There are outliers found between cement and ash columns \n",
    "Relationship between Independent attributes/variables:-\n",
    "* Majority of the independent attributes does not have any significant relationship with other independent attributes. \"superplastic\" and \"water\" display negative/inverse relationship. \"fineagg\" and \"water\" display negative/inverse relationship. Relationship between Independent attributes and dependent/target variable \"strength\" vs \"cement\": It is linearly related to the cement. The relationship is positive. This could be good predictor \"strength\" vs \"superplastic\": Some amount of positive trend / relationship. \"strength vs other attributes: \n",
    "*None of the other attributes display any significant relationship with strength variable.\n",
    "\n"
   ]
  },
  {
   "cell_type": "code",
   "execution_count": null,
   "metadata": {},
   "outputs": [],
   "source": [
    "print(\"Age feature has only {} unique values. The pie chart of those values is shown here.\".format(df['age'].nunique()))\n",
    "plt.figure(figsize=(8,8))\n",
    "df['age'].value_counts().plot(kind='pie',autopct='%1.0f%%') # Pie chart representation of different Races of people."
   ]
  },
  {
   "cell_type": "code",
   "execution_count": null,
   "metadata": {},
   "outputs": [],
   "source": [
    "plt.figure(figsize=(14,14))\n",
    "sns.heatmap(df.corr(),vmin=-1,vmax=1,annot=True,cmap=\"Greens\") # It will show correlation matrix "
   ]
  },
  {
   "cell_type": "markdown",
   "metadata": {},
   "source": [
    "'age' and 'superplastic' and 'cement' are weakly correlated to the target variable 'strength'. "
   ]
  },
  {
   "cell_type": "markdown",
   "metadata": {},
   "source": [
    "# Linear Regression, Ridge and Lasso Algorithms with Polynomial Features"
   ]
  },
  {
   "cell_type": "code",
   "execution_count": null,
   "metadata": {},
   "outputs": [],
   "source": [
    "X = df[numeric_cols]\n",
    "y = df[['strength']]\n",
    "resultsDf = []"
   ]
  },
  {
   "cell_type": "code",
   "execution_count": null,
   "metadata": {},
   "outputs": [],
   "source": [
    "poly = PolynomialFeatures(3, include_bias=False)\n",
    "X_poly = poly.fit_transform(X)\n",
    "print(X_poly.shape)"
   ]
  },
  {
   "cell_type": "code",
   "execution_count": null,
   "metadata": {},
   "outputs": [],
   "source": [
    "X_train_poly, X_test_poly, y_train, y_test = train_test_split(X_poly, y, test_size=0.25,random_state=42)"
   ]
  },
  {
   "cell_type": "code",
   "execution_count": null,
   "metadata": {},
   "outputs": [],
   "source": [
    "ln_regression = LinearRegression()\n",
    "ln_regression.fit(X_train_poly, y_train)\n",
    "\n",
    "y_pred_reg1 = ln_regression.predict(X_test_poly) \n",
    "\n",
    "score1 = ln_regression.score(X_train_poly, y_train)\n",
    "nrmse_lr = np.sqrt(mean_squared_error(y_test, y_pred_reg1)) / np.mean(y_test)\n",
    "\n",
    "print('Linear Regression')\n",
    "print()\n",
    "print('R^2 Coefficient for Train data: %.4f'% score1)\n",
    "print('R^2 Coefficient for Test data: %.4f'% r2_score(y_test, y_pred_reg1))\n",
    "\n",
    "resultsDf = pd.DataFrame({'Method':['Linear Regression'],'PolynomialFeatures(Y/N)':['Yes'], 'R2 Score Training': score1, 'R2 Score Test': r2_score(y_test, y_pred_reg1),'NRMSE':nrmse_lr})\n",
    "resultsDf = resultsDf[['Method','PolynomialFeatures(Y/N)', 'R2 Score Training','R2 Score Test','NRMSE']]"
   ]
  },
  {
   "cell_type": "code",
   "execution_count": null,
   "metadata": {},
   "outputs": [],
   "source": [
    "ridge = Ridge(alpha=0.0100)\n",
    "ridge.fit(X_train_poly,y_train)\n",
    "y_pred_reg_Ridge = ridge.predict(X_test_poly) \n",
    "score3 = ridge.score(X_train_poly,y_train)\n",
    "nrmse_Ridge = np.sqrt(mean_squared_error(y_test, y_pred_reg_Ridge)) / np.mean(y_test)\n",
    "print('Ridge Regression')\n",
    "print()\n",
    "\n",
    "print('Ridge Regression: R^2 Coefficient for Train data: %.4f'% score3)\n",
    "print('Ridge Regression: R^2 Coefficient for Test data: %.4f'% r2_score(y_test, y_pred_reg_Ridge))\n",
    "\n",
    "tempResultsDf = pd.DataFrame({'Method':['Ridge Regression'],'PolynomialFeatures(Y/N)':['Yes'] ,'R2 Score Training': score3, 'R2 Score Test': r2_score(y_test, y_pred_reg_Ridge),'NRMSE':nrmse_Ridge})\n",
    "resultsDf = pd.concat([resultsDf, tempResultsDf])\n",
    "resultsDf = resultsDf[['Method','PolynomialFeatures(Y/N)', 'R2 Score Training','R2 Score Test','NRMSE']]"
   ]
  },
  {
   "cell_type": "code",
   "execution_count": null,
   "metadata": {},
   "outputs": [],
   "source": [
    "lasso = Lasso(alpha=0.1)\n",
    "lasso.fit(X_train_poly,y_train)\n",
    "y_pred_reg_Lasso = lasso.predict(X_test_poly)\n",
    "score4 = lasso.score(X_train_poly,y_train)\n",
    "nrmse_Lasso = np.sqrt(mean_squared_error(y_test, y_pred_reg_Lasso)) / np.mean(y_test)\n",
    "print('Lasso Regression')\n",
    "print()\n",
    "print('Lasso Regression: R^2 Coefficient for Train data: %.4f'% score4)\n",
    "print('Lasso Regression: R^2 Coefficient for Test data: %.4f'% r2_score(y_test, y_pred_reg_Lasso))\n",
    "\n",
    "\n",
    "tempResultsDf = pd.DataFrame({'Method':['Lasso Regression'],'PolynomialFeatures(Y/N)':['Yes'] ,'R2 Score Training': score4, 'R2 Score Test': r2_score(y_test, y_pred_reg_Lasso),'NRMSE':nrmse_Lasso})\n",
    "resultsDf = pd.concat([resultsDf, tempResultsDf])\n",
    "resultsDf = resultsDf[['Method','PolynomialFeatures(Y/N)', 'R2 Score Training','R2 Score Test','NRMSE']]"
   ]
  },
  {
   "cell_type": "markdown",
   "metadata": {},
   "source": [
    "# Decision Tree Regressor"
   ]
  },
  {
   "cell_type": "code",
   "execution_count": null,
   "metadata": {},
   "outputs": [],
   "source": [
    "X_train, X_test, y_train, y_test = train_test_split(X, y, test_size=0.25,random_state=42)"
   ]
  },
  {
   "cell_type": "code",
   "execution_count": null,
   "metadata": {},
   "outputs": [],
   "source": [
    "# create a regressor object \n",
    "DT_regressor = DecisionTreeRegressor()\n",
    "DT_regressor.fit(X_train, y_train) \n",
    "y_pred = DT_regressor.predict(X_test) \n",
    "score1 = DT_regressor.score(X_train, y_train)\n",
    "nrmse_DT = np.sqrt(mean_squared_error(y_test, y_pred)) / np.mean(y_test)\n",
    "print('R^2 of the prediction - Training Data: %.3f'%score1)\n",
    "print('R^2 of the prediction - Testing Data %.3f'% r2_score(y_test, y_pred))\n",
    "fig, ax = plt.subplots(figsize=(10,6))\n",
    "ax.scatter(y_test, y_pred, edgecolors=(1,1,1))\n",
    "ax.plot([y_test.min(), y_test.max()], [y_test.min(), y_test.max()], 'r', lw=4)\n",
    "ax.set_xlabel('Actual Strength')\n",
    "ax.set_ylabel('Predicted Strength')\n",
    "ax.set_title(\"Decision Tree Regressor\")\n",
    "plt.show()\n",
    "#print(DT_regressor.get_params)\n",
    "\n",
    "\n",
    "tempResultsDf = pd.DataFrame({'Method':['Decision Tree Regressor'],'PolynomialFeatures(Y/N)':['No'] ,'R2 Score Training': score1, 'R2 Score Test': r2_score(y_test, y_pred),'NRMSE':nrmse_DT})\n",
    "resultsDf = pd.concat([resultsDf, tempResultsDf])\n",
    "resultsDf = resultsDf[['Method','PolynomialFeatures(Y/N)', 'R2 Score Training','R2 Score Test','NRMSE']]"
   ]
  },
  {
   "cell_type": "code",
   "execution_count": null,
   "metadata": {},
   "outputs": [],
   "source": [
    "importances = DT_regressor.feature_importances_\n",
    "indices = np.argsort(importances)\n",
    "features = X.columns\n",
    "print(\"The importance of a feature is computed as the (normalized) total reduction of the criterion brought by that feature. It is also known as the Gini importance.\")\n",
    "plt.figure(figsize=(10,5))\n",
    "plt.title('Feature Importances - Decision Tree Regressor')\n",
    "plt.barh(range(len(indices)), importances[indices], color='k', align='center')\n",
    "plt.yticks(range(len(indices)), features[indices])\n",
    "plt.xlabel('Relative Importance')\n",
    "plt.show()"
   ]
  },
  {
   "cell_type": "markdown",
   "metadata": {},
   "source": [
    "# Gradient Boost Regressor"
   ]
  },
  {
   "cell_type": "code",
   "execution_count": null,
   "metadata": {},
   "outputs": [],
   "source": [
    "#params_GBR = {'loss': 'ls','learning_rate': 0.03,'n_estimators': 200,'subsample': 0.8,'max_depth': 64,\n",
    "#              'max_features': 0.3,'min_impurity_decrease': 1e-10,'min_samples_leaf': 5}\n",
    "print('Boosting Regressor Model')\n",
    "\n",
    "reg_gbr = GradientBoostingRegressor(random_state=98)\n",
    "reg_gbr.fit(X_train, y_train)\n",
    "y_pred_GBR = reg_gbr.predict(X_test)\n",
    "nrmse_GBR = np.sqrt(mean_squared_error(y_test, y_pred_GBR)) / np.mean(y_test)\n",
    "score5 = reg_gbr.score(X_train, y_train)\n",
    "print(\"R^2 score on training data: {}\".format(reg_gbr.score(X_train,y_train)))\n",
    "print(\"R^2 score on test data: {}\".format(reg_gbr.score(X_test,y_test)))\n",
    "print(\"Normalised mean sqared error: {}\".format(nrmse_GBR))\n",
    "\n",
    "plt.figure(figsize=(8,8))\n",
    "plt.plot(np.linspace(0,100,10),np.linspace(0,100,10),'-k')\n",
    "plt.scatter(y_test, y_pred_GBR, s=10)\n",
    "plt.xlabel('Actual Strength');plt.ylabel('Predicted Strength'),plt.title('(Predicted vs Test (Gradient Boost Regressor))')\n",
    "plt.grid();plt.xlim(0,80);plt.ylim(0,80)\n",
    "#print(reg_gbr.get_params())\n",
    "\n",
    "\n",
    "\n",
    "tempResultsDf = pd.DataFrame({'Method':['Gradient Boost Regressor'],'PolynomialFeatures(Y/N)':['No'],'R2 Score Training': score5, 'R2 Score Test': r2_score(y_test, y_pred_GBR),'NRMSE':nrmse_GBR})\n",
    "resultsDf = pd.concat([resultsDf, tempResultsDf])\n",
    "resultsDf = resultsDf[['Method','PolynomialFeatures(Y/N)', 'R2 Score Training','R2 Score Test','NRMSE']]"
   ]
  },
  {
   "cell_type": "code",
   "execution_count": null,
   "metadata": {},
   "outputs": [],
   "source": [
    "print('Bagging Regressor Model')\n",
    "reg_bgr = BaggingRegressor(random_state=98)\n",
    "reg_bgr.fit(X_train, y_train)\n",
    "y_pred_BGR = reg_bgr.predict(X_test)\n",
    "score6 = reg_bgr.score(X_train, y_train)\n",
    "nrmse_BGR = np.sqrt(mean_squared_error(y_test, y_pred_BGR)) / np.mean(y_test)\n",
    "print(\"R^2 score on training data: {}\".format(reg_bgr.score(X_train,y_train)))\n",
    "print(\"R^2 score on test data: {}\".format(reg_bgr.score(X_test,y_test)))\n",
    "print(\"Normalised mean squared error: {}\".format(nrmse_BGR))\n",
    "\n",
    "plt.figure(figsize=(8,8))\n",
    "plt.plot(np.linspace(0,200,10),np.linspace(0,200,10),'-k')\n",
    "plt.scatter(y_test, y_pred_BGR, s=10)\n",
    "plt.xlabel('Actual Strength');plt.ylabel('Predicted Strength'),plt.title('(Predicted vs Test (Bagging Regressor))')\n",
    "plt.grid();plt.xlim(0,80);plt.ylim(0,80)\n",
    "#print(reg_bgr.get_params())\n",
    "\n",
    "tempResultsDf = pd.DataFrame({'Method':['Bagging Regressor'],'PolynomialFeatures(Y/N)':['No'],'R2 Score Training': score6, 'R2 Score Test': r2_score(y_test, y_pred_BGR),'NRMSE':nrmse_BGR})\n",
    "resultsDf = pd.concat([resultsDf, tempResultsDf])\n",
    "resultsDf = resultsDf[['Method','PolynomialFeatures(Y/N)', 'R2 Score Training','R2 Score Test','NRMSE']]"
   ]
  },
  {
   "cell_type": "code",
   "execution_count": null,
   "metadata": {},
   "outputs": [],
   "source": [
    "resultsDf.reset_index(inplace=True)\n",
    "resultsDf.drop(['index'], axis=1,inplace=True)\n",
    "resultsDf = resultsDf.round(3)\n",
    "resultsDf"
   ]
  },
  {
   "cell_type": "markdown",
   "metadata": {},
   "source": [
    "Performance metrics for 3 linear regression methods and 3 Decision tree based regression methods are reported in this table. NRMSE - Normalised root mean square error (RMSE normalised by mean of Y_Test). Polynomial Features are used for Linar regresison, Ridge and Lasso regression only. Raw features are input in the decision tree based regressors."
   ]
  },
  {
   "cell_type": "markdown",
   "metadata": {},
   "source": [
    "# Cross-Validation"
   ]
  },
  {
   "cell_type": "code",
   "execution_count": null,
   "metadata": {},
   "outputs": [],
   "source": [
    "from sklearn.model_selection import KFold\n",
    "from sklearn.model_selection import cross_val_score\n",
    "resultsDf_CV = []\n",
    "\n",
    "num_folds = 20\n",
    "seed = 7\n",
    "print(\"Cross-validation for Linear Regression\")\n",
    "kfold = KFold(n_splits = num_folds,random_state=7)\n",
    "ln_regression = LinearRegression()\n",
    "res_CV_ln_regression = cross_val_score(ln_regression,X,y,cv=kfold)\n",
    "\n",
    "R2_Score_LR_CV = res_CV_ln_regression.mean()\n",
    "stddev_LR_CV = res_CV_ln_regression.std()\n",
    "\n",
    "resultsDf_CV = pd.DataFrame({'Method':['Linear Regression'],'R2 Score after CV': R2_Score_LR_CV.round(3), 'Standard Dev': stddev_LR_CV.round(3)})\n",
    "resultsDf_CV = resultsDf_CV[['Method','R2 Score after CV', 'Standard Dev']]"
   ]
  },
  {
   "cell_type": "code",
   "execution_count": null,
   "metadata": {},
   "outputs": [],
   "source": [
    "print(\"Cross-validation for Decision Tree Regressor\")\n",
    "kfold = KFold(n_splits = num_folds,random_state=7)\n",
    "\n",
    "DT_regressor = DecisionTreeRegressor()\n",
    "\n",
    "res_CV_DT = cross_val_score(DT_regressor,X,y,cv=kfold)\n",
    "\n",
    "\n",
    "R2_Score_DT = res_CV_DT.mean()\n",
    "stddev_DT = res_CV_DT.std()\n",
    "\n",
    "tempResultsDf_CV = pd.DataFrame({'Method':['Decision Tree Regressor'],'R2 Score after CV': R2_Score_DT.round(3), 'Standard Dev': stddev_DT.round(3)})\n",
    "resultsDf_CV = pd.concat([resultsDf_CV, tempResultsDf_CV])\n",
    "resultsDf_CV = resultsDf_CV[['Method','R2 Score after CV', 'Standard Dev']]\n"
   ]
  },
  {
   "cell_type": "code",
   "execution_count": null,
   "metadata": {},
   "outputs": [],
   "source": [
    "print(\"Cross-validation for Bagging Regressor\")\n",
    "kfold = KFold(n_splits = num_folds,random_state=7)\n",
    "\n",
    "reg_bgr = BaggingRegressor(random_state=98)\n",
    "\n",
    "res_CV_bgr = cross_val_score(reg_bgr,X,y,cv=kfold)\n",
    "\n",
    "\n",
    "R2_Score_bgr = res_CV_bgr.mean()\n",
    "stddev_bgr = res_CV_bgr.std()\n",
    "\n",
    "tempResultsDf_CV = pd.DataFrame({'Method':['Bagging Regressor'],'R2 Score after CV': R2_Score_bgr.round(3), 'Standard Dev': stddev_bgr.round(3)})\n",
    "resultsDf_CV = pd.concat([resultsDf_CV, tempResultsDf_CV])\n",
    "resultsDf_CV = resultsDf_CV[['Method','R2 Score after CV', 'Standard Dev']]\n"
   ]
  },
  {
   "cell_type": "code",
   "execution_count": null,
   "metadata": {},
   "outputs": [],
   "source": [
    "print(\"Cross-validation for Gradient Boost Regressor\")\n",
    "kfold = KFold(n_splits = num_folds,random_state=7)\n",
    "\n",
    "reg_gbr = GradientBoostingRegressor(random_state=98)\n",
    "\n",
    "res_CV_gbr = cross_val_score(reg_gbr,X,y,cv=kfold)\n",
    "\n",
    "\n",
    "R2_Score_gbr = res_CV_gbr.mean()\n",
    "stddev_gbr = res_CV_gbr.std()\n",
    "\n",
    "\n",
    "tempResultsDf_CV = pd.DataFrame({'Method':['Gradient Boost Regressor'],'R2 Score after CV': R2_Score_gbr.round(3), 'Standard Dev': stddev_gbr.round(3)})\n",
    "resultsDf_CV = pd.concat([resultsDf_CV, tempResultsDf_CV])\n",
    "resultsDf_CV = resultsDf_CV[['Method','R2 Score after CV', 'Standard Dev']]\n"
   ]
  },
  {
   "cell_type": "code",
   "execution_count": null,
   "metadata": {},
   "outputs": [],
   "source": [
    "resultsDf_CV.reset_index(inplace=True)\n",
    "resultsDf_CV.drop(['index'], axis=1,inplace=True)\n",
    "print(\"This table is obtained by Cross-validation for Bagging Regressor\")\n",
    "resultsDf_CV"
   ]
  },
  {
   "cell_type": "markdown",
   "metadata": {},
   "source": [
    "Cross-Validation  - The R2 score is the mean of the array containing cross validation scores. The R2 score and standard deviation are derived from the cross validation score array and reported. The score deteriorates with increasing \"num_folds\" value."
   ]
  },
  {
   "cell_type": "code",
   "execution_count": null,
   "metadata": {},
   "outputs": [],
   "source": []
  },
  {
   "cell_type": "markdown",
   "metadata": {},
   "source": [
    "# Using  RandomizedSearchCV() for finding optimum parameteres"
   ]
  },
  {
   "cell_type": "code",
   "execution_count": null,
   "metadata": {},
   "outputs": [],
   "source": [
    "print(\"Find out the best parameters for the Gradient Boost Regressor.\")\n",
    "GBR_dict = {'learning_rate': np.arange(0.1,0.3,0.05),\n",
    "          'n_estimators': np.arange(10,300,50),\n",
    "          'subsample': [0.5,1],\n",
    "          'max_depth': np.arange(2,10,2),\n",
    "          'max_features': np.arange(0.25,1,0.25),\n",
    "          'min_impurity_decrease': [0,0.1,1e-10,1e-20],\n",
    "          'min_samples_leaf': np.arange(5,25,5)\n",
    "             }\n",
    "tic = time.time()\n",
    "reg_gbr = GradientBoostingRegressor()\n",
    "gbr_RandomCV = RandomizedSearchCV(reg_gbr, param_distributions=GBR_dict,cv=15,n_iter=150,n_jobs=2)\n",
    "gbr_RandomCV.fit(X, y)\n",
    "toc = time.time()\n",
    "\n",
    "print('Best Test Score:',gbr_RandomCV.best_score_.round(2))\n",
    "print(\"Time taken in seconds:\",(toc-tic))\n",
    "\n",
    "\n",
    "best_params_GBR = gbr_RandomCV.best_params_\n",
    "print('Best parameters:',best_params_GBR)\n",
    "\n",
    "\n",
    "print('Boosting Regressor Model with Best parameters obtained from RandomizedSearchCV')\n",
    "print()\n",
    "print()\n",
    "reg_gbr1 = GradientBoostingRegressor(random_state=98,**best_params_GBR)\n",
    "reg_gbr1.fit(X_train, y_train)\n",
    "y_pred_GBR = reg_gbr1.predict(X_test)\n",
    "nrmse_GBR1 = np.sqrt(mean_squared_error(y_test, y_pred_GBR)) / np.mean(y_test)\n",
    "score_GBR_CV = reg_gbr1.score(X_train, y_train)\n",
    "print(\"R^2 score on training data: {}\".format(reg_gbr1.score(X_train,y_train)))\n",
    "print(\"R^2 score on test data: {}\".format(reg_gbr1.score(X_test,y_test)))\n",
    "print(\"Normalised mean sqared error: {}\".format(nrmse_GBR1))\n",
    "\n",
    "\n",
    "tempResultsDf = pd.DataFrame({'Method':['Gradient Boost Regressor (RandomizedSearchCV)'],'PolynomialFeatures(Y/N)':['No'],'R2 Score Training': score_GBR_CV, 'R2 Score Test': r2_score(y_test, y_pred_BGR),'NRMSE':nrmse_GBR1})\n",
    "resultsDf = pd.concat([resultsDf, tempResultsDf])\n",
    "resultsDf = resultsDf[['Method','PolynomialFeatures(Y/N)', 'R2 Score Training','R2 Score Test','NRMSE']]\n"
   ]
  },
  {
   "cell_type": "code",
   "execution_count": null,
   "metadata": {},
   "outputs": [],
   "source": [
    "print(\"Find out the best parameters for the Decision Tree Regressor Regressor.\")\n",
    "\n",
    "from scipy.stats import randint as sp_randint\n",
    "\n",
    "DT_dict = {\"max_depth\": np.arange(100,300,1),\n",
    "              \"min_samples_split\": sp_randint(1,10),\n",
    "              \"min_samples_leaf\": sp_randint(1,10),\n",
    "              'criterion':['mse','mae'],\n",
    "             'min_weight_fraction_leaf':[0.001,0.0015,0.0016,0.002,0.0021,0.01],           \n",
    "            }\n",
    "tic = time.time()\n",
    "DT_regressor = DecisionTreeRegressor()\n",
    "DT_RandomCV = RandomizedSearchCV(DT_regressor, param_distributions=DT_dict,cv=10,n_iter=50,n_jobs=2)\n",
    "DT_RandomCV.fit(X, y)\n",
    "toc = time.time()\n",
    "print('Best Test Score:',DT_RandomCV.best_score_.round(2))\n",
    "print(\"Time taken in seconds:\",(toc-tic))\n",
    "DT_params = DT_RandomCV.best_params_\n",
    "print(\"Best Parameters are:\\n\",DT_params)\n",
    "print()\n",
    "print()\n",
    "\n",
    "DT_regressor1 = DecisionTreeRegressor(**DT_params)\n",
    "# fit the regressor with X and Y data \n",
    "DT_regressor1.fit(X_train, y_train) \n",
    "y_pred = DT_regressor1.predict(X_test) \n",
    "score_DT_CV = DT_regressor1.score(X_train, y_train)\n",
    "nrmse_DT = np.sqrt(mean_squared_error(y_test, y_pred)) / np.mean(y_test)\n",
    "# Explained variance score: 1 is perfect prediction\n",
    "print('R^2 of the prediction - Training Data: %.3f'%score1)\n",
    "# Explained variance score: 1 is perfect prediction\n",
    "print('R^2 of the prediction - Testing Data %.3f'% r2_score(y_test, y_pred))\n",
    "print()\n",
    "tempResultsDf = pd.DataFrame({'Method':['Decision Tree Regressor (RandomizedSearchCV)'],'PolynomialFeatures(Y/N)':['No'],'R2 Score Training': score_DT_CV, 'R2 Score Test': r2_score(y_test, y_pred),'NRMSE':nrmse_DT})\n",
    "resultsDf = pd.concat([resultsDf, tempResultsDf])\n",
    "resultsDf = resultsDf[['Method','PolynomialFeatures(Y/N)', 'R2 Score Training','R2 Score Test','NRMSE']]"
   ]
  },
  {
   "cell_type": "code",
   "execution_count": null,
   "metadata": {},
   "outputs": [],
   "source": [
    "resultsDf.reset_index(inplace=True)\n",
    "resultsDf.drop(['index'], axis=1,inplace=True)\n",
    "resultsDf = resultsDf.round(3)\n",
    "resultsDf"
   ]
  },
  {
   "cell_type": "markdown",
   "metadata": {},
   "source": [
    "The best hyper-parameters are obtained using RandomizedSearchCV. These parameters are input in the alogorithms. \n",
    "The R2 score and NRMSE improve (albeit slightly) due to usage of these \"best parameters\"."
   ]
  }
 ],
 "metadata": {
  "kernelspec": {
   "display_name": "Python 3",
   "language": "python",
   "name": "python3"
  },
  "language_info": {
   "codemirror_mode": {
    "name": "ipython",
    "version": 3
   },
   "file_extension": ".py",
   "mimetype": "text/x-python",
   "name": "python",
   "nbconvert_exporter": "python",
   "pygments_lexer": "ipython3",
   "version": "3.8.3"
  }
 },
 "nbformat": 4,
 "nbformat_minor": 2
}
